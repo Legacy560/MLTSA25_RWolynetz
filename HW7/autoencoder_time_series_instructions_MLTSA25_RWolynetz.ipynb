{
  "nbformat": 4,
  "nbformat_minor": 0,
  "metadata": {
    "colab": {
      "provenance": [],
      "include_colab_link": true
    },
    "kernelspec": {
      "name": "python3",
      "display_name": "Python 3"
    },
    "language_info": {
      "name": "python"
    }
  },
  "cells": [
    {
      "cell_type": "markdown",
      "metadata": {
        "id": "view-in-github",
        "colab_type": "text"
      },
      "source": [
        "<a href=\"https://colab.research.google.com/github/Legacy560/MLTSA25_RWolynetz/blob/main/HW7/autoencoder_time_series_instructions_MLTSA25_RWolynetz.ipynb\" target=\"_parent\"><img src=\"https://colab.research.google.com/assets/colab-badge.svg\" alt=\"Open In Colab\"/></a>"
      ]
    },
    {
      "cell_type": "markdown",
      "source": [
        "# Autoencoder for time series\n",
        "an autoencoder is a deep neural network that reproduces input data\n",
        "\n",
        "it does so by progressively shrinking the size of the layers from the input size to a bottle neck and then expanding them back progressively to the initial size\n",
        "\n",
        "note: the input and target are the same!"
      ],
      "metadata": {
        "id": "yCOw8B94S-0b"
      }
    },
    {
      "cell_type": "markdown",
      "source": [
        "put your imports in the top cell"
      ],
      "metadata": {
        "id": "8W6FEMDdFphF"
      }
    },
    {
      "cell_type": "code",
      "source": [
        "!pip install PyGithub\n",
        "!pip install pydub"
      ],
      "metadata": {
        "colab": {
          "base_uri": "https://localhost:8080/"
        },
        "id": "QV8mR2n9tqUv",
        "outputId": "c90c5f1b-1dc9-4ad6-bf18-103cc2bc47f7"
      },
      "execution_count": 1,
      "outputs": [
        {
          "output_type": "stream",
          "name": "stdout",
          "text": [
            "Collecting PyGithub\n",
            "  Downloading PyGithub-2.6.1-py3-none-any.whl.metadata (3.9 kB)\n",
            "Collecting pynacl>=1.4.0 (from PyGithub)\n",
            "  Downloading PyNaCl-1.5.0-cp36-abi3-manylinux_2_17_x86_64.manylinux2014_x86_64.manylinux_2_24_x86_64.whl.metadata (8.6 kB)\n",
            "Requirement already satisfied: requests>=2.14.0 in /usr/local/lib/python3.11/dist-packages (from PyGithub) (2.32.3)\n",
            "Requirement already satisfied: pyjwt>=2.4.0 in /usr/local/lib/python3.11/dist-packages (from pyjwt[crypto]>=2.4.0->PyGithub) (2.10.1)\n",
            "Requirement already satisfied: typing-extensions>=4.0.0 in /usr/local/lib/python3.11/dist-packages (from PyGithub) (4.13.2)\n",
            "Requirement already satisfied: urllib3>=1.26.0 in /usr/local/lib/python3.11/dist-packages (from PyGithub) (2.3.0)\n",
            "Requirement already satisfied: Deprecated in /usr/local/lib/python3.11/dist-packages (from PyGithub) (1.2.18)\n",
            "Requirement already satisfied: cryptography>=3.4.0 in /usr/local/lib/python3.11/dist-packages (from pyjwt[crypto]>=2.4.0->PyGithub) (43.0.3)\n",
            "Requirement already satisfied: cffi>=1.4.1 in /usr/local/lib/python3.11/dist-packages (from pynacl>=1.4.0->PyGithub) (1.17.1)\n",
            "Requirement already satisfied: charset-normalizer<4,>=2 in /usr/local/lib/python3.11/dist-packages (from requests>=2.14.0->PyGithub) (3.4.1)\n",
            "Requirement already satisfied: idna<4,>=2.5 in /usr/local/lib/python3.11/dist-packages (from requests>=2.14.0->PyGithub) (3.10)\n",
            "Requirement already satisfied: certifi>=2017.4.17 in /usr/local/lib/python3.11/dist-packages (from requests>=2.14.0->PyGithub) (2025.1.31)\n",
            "Requirement already satisfied: wrapt<2,>=1.10 in /usr/local/lib/python3.11/dist-packages (from Deprecated->PyGithub) (1.17.2)\n",
            "Requirement already satisfied: pycparser in /usr/local/lib/python3.11/dist-packages (from cffi>=1.4.1->pynacl>=1.4.0->PyGithub) (2.22)\n",
            "Downloading PyGithub-2.6.1-py3-none-any.whl (410 kB)\n",
            "\u001b[2K   \u001b[90m━━━━━━━━━━━━━━━━━━━━━━━━━━━━━━━━━━━━━━━━\u001b[0m \u001b[32m410.5/410.5 kB\u001b[0m \u001b[31m7.6 MB/s\u001b[0m eta \u001b[36m0:00:00\u001b[0m\n",
            "\u001b[?25hDownloading PyNaCl-1.5.0-cp36-abi3-manylinux_2_17_x86_64.manylinux2014_x86_64.manylinux_2_24_x86_64.whl (856 kB)\n",
            "\u001b[2K   \u001b[90m━━━━━━━━━━━━━━━━━━━━━━━━━━━━━━━━━━━━━━━━\u001b[0m \u001b[32m856.7/856.7 kB\u001b[0m \u001b[31m10.2 MB/s\u001b[0m eta \u001b[36m0:00:00\u001b[0m\n",
            "\u001b[?25hInstalling collected packages: pynacl, PyGithub\n",
            "Successfully installed PyGithub-2.6.1 pynacl-1.5.0\n",
            "Collecting pydub\n",
            "  Downloading pydub-0.25.1-py2.py3-none-any.whl.metadata (1.4 kB)\n",
            "Downloading pydub-0.25.1-py2.py3-none-any.whl (32 kB)\n",
            "Installing collected packages: pydub\n",
            "Successfully installed pydub-0.25.1\n"
          ]
        }
      ]
    },
    {
      "cell_type": "code",
      "source": [
        "import pandas as pd\n",
        "import numpy as np\n",
        "import glob\n",
        "import pylab as pl\n",
        "from PIL import Image\n",
        "from github import Github\n",
        "import sys\n",
        "import os\n",
        "from tqdm import tqdm\n",
        "%pylab inline\n",
        "\n"
      ],
      "metadata": {
        "id": "VAD1C58KJv7v",
        "colab": {
          "base_uri": "https://localhost:8080/"
        },
        "outputId": "2d54fa3a-3817-4463-fb83-ea2375e0d50f"
      },
      "execution_count": 2,
      "outputs": [
        {
          "output_type": "stream",
          "name": "stdout",
          "text": [
            "Populating the interactive namespace from numpy and matplotlib\n"
          ]
        }
      ]
    },
    {
      "cell_type": "code",
      "source": [
        "#Deep leaarning imports\n",
        "import keras\n",
        "from keras.datasets import mnist\n",
        "from keras.models import Sequential\n",
        "from keras.layers import Dense\n",
        "from keras.callbacks import EarlyStopping, ModelCheckpoint\n"
      ],
      "metadata": {
        "id": "KKUoo4mDFtd6"
      },
      "execution_count": 3,
      "outputs": []
    },
    {
      "cell_type": "markdown",
      "source": [
        "get the data by cloaning the repo https://github.com/nlandolfi/acc2022treelinearcascades_stocks.git"
      ],
      "metadata": {
        "id": "s1pZqPAnF46c"
      }
    },
    {
      "cell_type": "code",
      "source": [
        "\n",
        "from google.colab import drive\n",
        "\n",
        "drive.mount(\"/content/gdrive\")"
      ],
      "metadata": {
        "colab": {
          "base_uri": "https://localhost:8080/"
        },
        "id": "vtkxPuh0tUo-",
        "outputId": "efc2939a-9066-4877-b78c-492c1c07def5"
      },
      "execution_count": 3,
      "outputs": [
        {
          "output_type": "stream",
          "name": "stdout",
          "text": [
            "Mounted at /content/gdrive\n"
          ]
        }
      ]
    },
    {
      "cell_type": "code",
      "source": [
        "cd gdrive/My\\ Drive/Graduate School/Graduate Year 2/Spring 2025/My Courses/PHYS 664: Machine Learning for Time Series Analysis/Python Notebooks/Homework/Homework\\ 7"
      ],
      "metadata": {
        "colab": {
          "base_uri": "https://localhost:8080/"
        },
        "id": "mFZmdF8ztw3u",
        "outputId": "1fe6f785-9b8a-42ce-db09-b878192c67ee"
      },
      "execution_count": 4,
      "outputs": [
        {
          "output_type": "stream",
          "name": "stdout",
          "text": [
            "/content/gdrive/My Drive/Graduate School/Graduate Year 2/Spring 2025/My Courses/PHYS 664: Machine Learning for Time Series Analysis/Python Notebooks/Homework/Homework 7\n"
          ]
        }
      ]
    },
    {
      "cell_type": "code",
      "source": [
        "mkdir data"
      ],
      "metadata": {
        "id": "ee4TbRcsKcas"
      },
      "execution_count": 61,
      "outputs": []
    },
    {
      "cell_type": "code",
      "source": [
        "cd data"
      ],
      "metadata": {
        "colab": {
          "base_uri": "https://localhost:8080/"
        },
        "id": "plwctA0ivDJp",
        "outputId": "24415f21-129f-4529-fc80-c15fbc7ac9f5"
      },
      "execution_count": 5,
      "outputs": [
        {
          "output_type": "stream",
          "name": "stdout",
          "text": [
            "/content/gdrive/My Drive/Graduate School/Graduate Year 2/Spring 2025/My Courses/PHYS 664: Machine Learning for Time Series Analysis/Python Notebooks/Homework/Homework 7/data\n"
          ]
        }
      ]
    },
    {
      "cell_type": "code",
      "source": [
        "cd data"
      ],
      "metadata": {
        "colab": {
          "base_uri": "https://localhost:8080/"
        },
        "id": "l4ULW2H8Tvn8",
        "outputId": "7ad63451-315c-4cc2-eac7-2715d85d32bb"
      },
      "execution_count": 10,
      "outputs": [
        {
          "output_type": "stream",
          "name": "stdout",
          "text": [
            "/content/gdrive/My Drive/Graduate School/Graduate Year 2/Spring 2025/My Courses/PHYS 664: Machine Learning for Time Series Analysis/Python Notebooks/Homework/Homework 7/data/data\n"
          ]
        }
      ]
    },
    {
      "cell_type": "code",
      "source": [
        "# First create a Github instance:\n",
        "# we do not need to use username and password because we will access a public repo\n",
        "g = Github()\n",
        "guser = g.get_user(\"nlandolfi\") #Get the user\n",
        "repo = guser.get_repo(\"acc2022treelinearcascades_stocks\") #Get the repo"
      ],
      "metadata": {
        "id": "5gCV6ze0uCs4"
      },
      "execution_count": 6,
      "outputs": []
    },
    {
      "cell_type": "code",
      "source": [
        "#These are stock price time series. Use the \" Volume\" column as your chosen time series\n",
        "stockPrices = repo.get_contents(\"data\")\n",
        "stockPrices"
      ],
      "metadata": {
        "id": "_9xkwsGwPcjf",
        "colab": {
          "base_uri": "https://localhost:8080/"
        },
        "outputId": "9018daaf-ecf1-4458-dcf6-0ce8e1e0335b"
      },
      "execution_count": 7,
      "outputs": [
        {
          "output_type": "execute_result",
          "data": {
            "text/plain": [
              "[ContentFile(path=\"data/aapl.csv\"),\n",
              " ContentFile(path=\"data/amgn.csv\"),\n",
              " ContentFile(path=\"data/axp.csv\"),\n",
              " ContentFile(path=\"data/ba.csv\"),\n",
              " ContentFile(path=\"data/cat.csv\"),\n",
              " ContentFile(path=\"data/crm.csv\"),\n",
              " ContentFile(path=\"data/csco.csv\"),\n",
              " ContentFile(path=\"data/cvx.csv\"),\n",
              " ContentFile(path=\"data/dis.csv\"),\n",
              " ContentFile(path=\"data/dow.csv\"),\n",
              " ContentFile(path=\"data/gs.csv\"),\n",
              " ContentFile(path=\"data/hd.csv\"),\n",
              " ContentFile(path=\"data/hon.csv\"),\n",
              " ContentFile(path=\"data/ibm.csv\"),\n",
              " ContentFile(path=\"data/intc.csv\"),\n",
              " ContentFile(path=\"data/jnj.csv\"),\n",
              " ContentFile(path=\"data/jpm.csv\"),\n",
              " ContentFile(path=\"data/ko.csv\"),\n",
              " ContentFile(path=\"data/mcd.csv\"),\n",
              " ContentFile(path=\"data/mmm.csv\"),\n",
              " ContentFile(path=\"data/mrk.csv\"),\n",
              " ContentFile(path=\"data/msft.csv\"),\n",
              " ContentFile(path=\"data/nke.csv\"),\n",
              " ContentFile(path=\"data/pg.csv\"),\n",
              " ContentFile(path=\"data/trv.csv\"),\n",
              " ContentFile(path=\"data/unh.csv\"),\n",
              " ContentFile(path=\"data/v.csv\"),\n",
              " ContentFile(path=\"data/vz.csv\"),\n",
              " ContentFile(path=\"data/wba.csv\"),\n",
              " ContentFile(path=\"data/wmt.csv\")]"
            ]
          },
          "metadata": {},
          "execution_count": 7
        }
      ]
    },
    {
      "cell_type": "code",
      "source": [
        "# prompt: Get the Stock Prices datasets into my data folder\n",
        "\n",
        "import os\n",
        "\n",
        "# Create the data directory if it doesn't exist\n",
        "if not os.path.exists(\"data\"):\n",
        "    os.makedirs(\"data\")\n",
        "\n",
        "# Download each file from the repository\n",
        "for file in stockPrices:\n",
        "    file_path = os.path.join(\"data\", file.name)\n",
        "    if not os.path.exists(file_path):\n",
        "        file_content = repo.get_contents(file.path).decoded_content\n",
        "        with open(file_path, \"wb\") as f:\n",
        "            f.write(file_content)\n"
      ],
      "metadata": {
        "id": "7fqOsVM2J89t"
      },
      "execution_count": 65,
      "outputs": []
    },
    {
      "cell_type": "markdown",
      "source": [
        "check that all files have the same length. The system command `wc -l returns` the  number of lines (stands for \"word count -lines\")"
      ],
      "metadata": {
        "id": "9GJTqvLpGHOP"
      }
    },
    {
      "cell_type": "code",
      "source": [
        "# prompt: check that all files have the same length using the system command wc -l to access the files in the current directory. do it in one line\n",
        "\n",
        "!wc -l * | awk '{print $1}' | sort | uniq -d\n"
      ],
      "metadata": {
        "colab": {
          "base_uri": "https://localhost:8080/"
        },
        "id": "kr8mK6G3KdWI",
        "outputId": "378efed6-696a-4f2f-e72a-5cd98412affc"
      },
      "execution_count": 72,
      "outputs": [
        {
          "output_type": "stream",
          "name": "stdout",
          "text": [
            "2516\n"
          ]
        }
      ]
    },
    {
      "cell_type": "code",
      "source": [
        "!wc -l * #They all have the same length, except dow"
      ],
      "metadata": {
        "id": "t46fvATvnijH",
        "colab": {
          "base_uri": "https://localhost:8080/"
        },
        "outputId": "90dbd8e8-680c-4167-c56d-51da3dc740f1"
      },
      "execution_count": 11,
      "outputs": [
        {
          "output_type": "stream",
          "name": "stdout",
          "text": [
            "   2516 aapl.csv\n",
            "   2516 amgn.csv\n",
            "   2516 axp.csv\n",
            "   2516 ba.csv\n",
            "   2516 cat.csv\n",
            "   2516 crm.csv\n",
            "   2516 csco.csv\n",
            "   2516 cvx.csv\n",
            "   2516 dis.csv\n",
            "    542 dow.csv\n",
            "   2516 gs.csv\n",
            "   2516 hd.csv\n",
            "   2516 hon.csv\n",
            "   2516 ibm.csv\n",
            "   2516 intc.csv\n",
            "   2516 jnj.csv\n",
            "   2516 jpm.csv\n",
            "   2516 ko.csv\n",
            "   2516 mcd.csv\n",
            "   2516 mmm.csv\n",
            "   2516 mrk.csv\n",
            "   2516 msft.csv\n",
            "   2516 nke.csv\n",
            "   2516 pg.csv\n",
            "   2516 trv.csv\n",
            "   2516 unh.csv\n",
            "   2516 v.csv\n",
            "   2516 vz.csv\n",
            "   2516 wba.csv\n",
            "   2516 wmt.csv\n",
            "  73506 total\n"
          ]
        }
      ]
    },
    {
      "cell_type": "code",
      "source": [
        "#create a list of all files you want to load\n",
        "files = glob.glob(\"*\") #Changed the path since we are in the current directory.\n",
        "files"
      ],
      "metadata": {
        "id": "WMoBGcJISyx_",
        "colab": {
          "base_uri": "https://localhost:8080/"
        },
        "outputId": "56b7516b-757c-4bca-901f-c502efcd43c9"
      },
      "execution_count": 33,
      "outputs": [
        {
          "output_type": "execute_result",
          "data": {
            "text/plain": [
              "['aapl.csv',\n",
              " 'amgn.csv',\n",
              " 'axp.csv',\n",
              " 'ba.csv',\n",
              " 'cat.csv',\n",
              " 'crm.csv',\n",
              " 'csco.csv',\n",
              " 'cvx.csv',\n",
              " 'dis.csv',\n",
              " 'dow.csv',\n",
              " 'gs.csv',\n",
              " 'hd.csv',\n",
              " 'hon.csv',\n",
              " 'ibm.csv',\n",
              " 'intc.csv',\n",
              " 'jnj.csv',\n",
              " 'jpm.csv',\n",
              " 'ko.csv',\n",
              " 'mcd.csv',\n",
              " 'mmm.csv',\n",
              " 'mrk.csv',\n",
              " 'msft.csv',\n",
              " 'nke.csv',\n",
              " 'pg.csv',\n",
              " 'trv.csv',\n",
              " 'unh.csv',\n",
              " 'v.csv',\n",
              " 'vz.csv',\n",
              " 'wba.csv',\n",
              " 'wmt.csv']"
            ]
          },
          "metadata": {},
          "execution_count": 33
        }
      ]
    },
    {
      "cell_type": "code",
      "source": [
        "numLines = len(open(files[0]).readlines()) #Changed the path since we are in the current directory.\n",
        "numLines"
      ],
      "metadata": {
        "colab": {
          "base_uri": "https://localhost:8080/"
        },
        "id": "cLQ9YlxJLvsa",
        "outputId": "6c2ee8de-936e-43e5-a1f4-71ce256dd2e4"
      },
      "execution_count": 13,
      "outputs": [
        {
          "output_type": "execute_result",
          "data": {
            "text/plain": [
              "2517"
            ]
          },
          "metadata": {},
          "execution_count": 13
        }
      ]
    },
    {
      "cell_type": "code",
      "source": [
        "#create a numpy array to host the data\n",
        "data = np.zeros((numLines,len(files))) # Corrected: Pass shape as a tuple # do not use hard coded numbers, use values calculated on the spot from the variables you have: the number of and shape of the files\n",
        "data.shape"
      ],
      "metadata": {
        "id": "BcuR4LCyG3n5",
        "colab": {
          "base_uri": "https://localhost:8080/"
        },
        "outputId": "06407e39-7ae5-4dc6-b765-661d5fa10dfc"
      },
      "execution_count": 31,
      "outputs": [
        {
          "output_type": "execute_result",
          "data": {
            "text/plain": [
              "(2517, 30)"
            ]
          },
          "metadata": {},
          "execution_count": 31
        }
      ]
    },
    {
      "cell_type": "markdown",
      "source": [
        " read in all the data into the array"
      ],
      "metadata": {
        "id": "JIv9RJguGhe3"
      }
    },
    {
      "cell_type": "code",
      "source": [
        "df = pd.read_csv(files[0])\n",
        "df.head()\n",
        "df.columns #There is whitespace before each column name.\n",
        "df.shape[0]"
      ],
      "metadata": {
        "colab": {
          "base_uri": "https://localhost:8080/"
        },
        "id": "WnJoEuLDN8em",
        "outputId": "466af8fd-9bd1-4e57-c6b0-b498340c3d7f"
      },
      "execution_count": 28,
      "outputs": [
        {
          "output_type": "execute_result",
          "data": {
            "text/plain": [
              "2516"
            ]
          },
          "metadata": {},
          "execution_count": 28
        }
      ]
    },
    {
      "cell_type": "code",
      "source": [
        "pd.read_csv(files[0]).loc[:, \" Volume\"]"
      ],
      "metadata": {
        "colab": {
          "base_uri": "https://localhost:8080/",
          "height": 458
        },
        "id": "kACwF3tONcSu",
        "outputId": "4f20e7b5-2a20-4cd9-abce-61607017aac9"
      },
      "execution_count": 21,
      "outputs": [
        {
          "output_type": "execute_result",
          "data": {
            "text/plain": [
              "0       1.121723e+08\n",
              "1       1.261428e+08\n",
              "2       8.807123e+07\n",
              "3       7.897327e+07\n",
              "4       7.812833e+07\n",
              "            ...     \n",
              "2511    2.611652e+08\n",
              "2512    3.347730e+08\n",
              "2513    4.527866e+08\n",
              "2514    4.501414e+08\n",
              "2515    3.261919e+08\n",
              "Name:  Volume, Length: 2516, dtype: float64"
            ],
            "text/html": [
              "<div>\n",
              "<style scoped>\n",
              "    .dataframe tbody tr th:only-of-type {\n",
              "        vertical-align: middle;\n",
              "    }\n",
              "\n",
              "    .dataframe tbody tr th {\n",
              "        vertical-align: top;\n",
              "    }\n",
              "\n",
              "    .dataframe thead th {\n",
              "        text-align: right;\n",
              "    }\n",
              "</style>\n",
              "<table border=\"1\" class=\"dataframe\">\n",
              "  <thead>\n",
              "    <tr style=\"text-align: right;\">\n",
              "      <th></th>\n",
              "      <th>Volume</th>\n",
              "    </tr>\n",
              "  </thead>\n",
              "  <tbody>\n",
              "    <tr>\n",
              "      <th>0</th>\n",
              "      <td>1.121723e+08</td>\n",
              "    </tr>\n",
              "    <tr>\n",
              "      <th>1</th>\n",
              "      <td>1.261428e+08</td>\n",
              "    </tr>\n",
              "    <tr>\n",
              "      <th>2</th>\n",
              "      <td>8.807123e+07</td>\n",
              "    </tr>\n",
              "    <tr>\n",
              "      <th>3</th>\n",
              "      <td>7.897327e+07</td>\n",
              "    </tr>\n",
              "    <tr>\n",
              "      <th>4</th>\n",
              "      <td>7.812833e+07</td>\n",
              "    </tr>\n",
              "    <tr>\n",
              "      <th>...</th>\n",
              "      <td>...</td>\n",
              "    </tr>\n",
              "    <tr>\n",
              "      <th>2511</th>\n",
              "      <td>2.611652e+08</td>\n",
              "    </tr>\n",
              "    <tr>\n",
              "      <th>2512</th>\n",
              "      <td>3.347730e+08</td>\n",
              "    </tr>\n",
              "    <tr>\n",
              "      <th>2513</th>\n",
              "      <td>4.527866e+08</td>\n",
              "    </tr>\n",
              "    <tr>\n",
              "      <th>2514</th>\n",
              "      <td>4.501414e+08</td>\n",
              "    </tr>\n",
              "    <tr>\n",
              "      <th>2515</th>\n",
              "      <td>3.261919e+08</td>\n",
              "    </tr>\n",
              "  </tbody>\n",
              "</table>\n",
              "<p>2516 rows × 1 columns</p>\n",
              "</div><br><label><b>dtype:</b> float64</label>"
            ]
          },
          "metadata": {},
          "execution_count": 21
        }
      ]
    },
    {
      "cell_type": "code",
      "source": [
        "#remove\n",
        "for i,f in tqdm(enumerate(files)):\n",
        "  df = pd.read_csv(f)\n",
        "  # Get the \" Volume\" column data\n",
        "  volume_data = df.loc[:, \" Volume\"].values\n",
        "\n",
        "    # Get the number of rows to fill with data\n",
        "  data_len = df.shape[0]\n",
        "\n",
        "    # Assign the data to the appropriate slice of the 'data' array\n",
        "  data[1:data_len + 1, i] = volume_data[:data_len]\n",
        "\n",
        "    # Fill the remaining rows with zeros if the dataframe is shorter\n",
        "  if data_len < data.shape[0]:\n",
        "      data[data_len + 1:, i] = 0"
      ],
      "metadata": {
        "id": "HXGeYlmUGWyb",
        "colab": {
          "base_uri": "https://localhost:8080/"
        },
        "outputId": "afb98c9f-3e7d-44fd-c1cc-2526f7cf662e"
      },
      "execution_count": 36,
      "outputs": [
        {
          "output_type": "stream",
          "name": "stderr",
          "text": [
            "30it [00:00, 101.86it/s]\n"
          ]
        }
      ]
    },
    {
      "cell_type": "code",
      "source": [
        "volData = pd.DataFrame(data) #Check our work.\n",
        "volData.tail()"
      ],
      "metadata": {
        "colab": {
          "base_uri": "https://localhost:8080/",
          "height": 256
        },
        "id": "dUr0MayCYT_b",
        "outputId": "e53e6b9c-81a9-4121-c0d7-0e60c0547012"
      },
      "execution_count": 39,
      "outputs": [
        {
          "output_type": "execute_result",
          "data": {
            "text/plain": [
              "                0           1          2          3           4           5   \\\n",
              "2512  2.611652e+08   3361946.0  6947862.0  3346199.0   8618525.0  17095432.0   \n",
              "2513  3.347730e+08   5184489.0  7241295.0  3637977.0   9472870.0  10479684.0   \n",
              "2514  4.527866e+08  11794950.0  7721508.0  5202027.0  19233160.0  11954704.0   \n",
              "2515  4.501414e+08  10045100.0  7250763.0  3801072.0   8292202.0  11214056.0   \n",
              "2516  3.261919e+08   9402696.0  8198068.0  3809897.0   9253089.0   5550444.0   \n",
              "\n",
              "              6          7           8    9   ...          20          21  \\\n",
              "2512  68259859.0  7455402.0  10068650.0  0.0  ...  11414260.0  37783594.0   \n",
              "2513  92724656.0  8194012.0   9953779.0  0.0  ...  12975590.0  53931031.0   \n",
              "2514  78206609.0  8771571.0  10041820.0  0.0  ...  20374750.0  82894461.0   \n",
              "2515  81626359.0  6762951.0  11704590.0  0.0  ...  18738971.0  91402406.0   \n",
              "2516  80195328.0  8959943.0   8422193.0  0.0  ...  11501340.0  66819289.0   \n",
              "\n",
              "              22          23         24          25          26          27  \\\n",
              "2512   8239948.0   7444225.0  2034742.0   6105182.0  14954532.0   9704141.0   \n",
              "2513   9857864.0   8870963.0  2156922.0   7146118.0  20134148.0   9432965.0   \n",
              "2514   9972700.0  12180990.0  2872864.0   7230630.0  22115204.0  12483580.0   \n",
              "2515  10656976.0   9878317.0  2381820.0   6020510.0  18765464.0  10999420.0   \n",
              "2516  14449168.0  12606900.0  4072474.0  11100060.0  21491084.0  10424840.0   \n",
              "\n",
              "             28          29  \n",
              "2512  3731820.0   7701349.0  \n",
              "2513  5440096.0  11425320.0  \n",
              "2514  6256302.0  14586700.0  \n",
              "2515  7515746.0  14178780.0  \n",
              "2516  5911498.0   8953618.0  \n",
              "\n",
              "[5 rows x 30 columns]"
            ],
            "text/html": [
              "\n",
              "  <div id=\"df-d5e5435a-bc46-4f75-ac6f-568b758bb1a9\" class=\"colab-df-container\">\n",
              "    <div>\n",
              "<style scoped>\n",
              "    .dataframe tbody tr th:only-of-type {\n",
              "        vertical-align: middle;\n",
              "    }\n",
              "\n",
              "    .dataframe tbody tr th {\n",
              "        vertical-align: top;\n",
              "    }\n",
              "\n",
              "    .dataframe thead th {\n",
              "        text-align: right;\n",
              "    }\n",
              "</style>\n",
              "<table border=\"1\" class=\"dataframe\">\n",
              "  <thead>\n",
              "    <tr style=\"text-align: right;\">\n",
              "      <th></th>\n",
              "      <th>0</th>\n",
              "      <th>1</th>\n",
              "      <th>2</th>\n",
              "      <th>3</th>\n",
              "      <th>4</th>\n",
              "      <th>5</th>\n",
              "      <th>6</th>\n",
              "      <th>7</th>\n",
              "      <th>8</th>\n",
              "      <th>9</th>\n",
              "      <th>...</th>\n",
              "      <th>20</th>\n",
              "      <th>21</th>\n",
              "      <th>22</th>\n",
              "      <th>23</th>\n",
              "      <th>24</th>\n",
              "      <th>25</th>\n",
              "      <th>26</th>\n",
              "      <th>27</th>\n",
              "      <th>28</th>\n",
              "      <th>29</th>\n",
              "    </tr>\n",
              "  </thead>\n",
              "  <tbody>\n",
              "    <tr>\n",
              "      <th>2512</th>\n",
              "      <td>2.611652e+08</td>\n",
              "      <td>3361946.0</td>\n",
              "      <td>6947862.0</td>\n",
              "      <td>3346199.0</td>\n",
              "      <td>8618525.0</td>\n",
              "      <td>17095432.0</td>\n",
              "      <td>68259859.0</td>\n",
              "      <td>7455402.0</td>\n",
              "      <td>10068650.0</td>\n",
              "      <td>0.0</td>\n",
              "      <td>...</td>\n",
              "      <td>11414260.0</td>\n",
              "      <td>37783594.0</td>\n",
              "      <td>8239948.0</td>\n",
              "      <td>7444225.0</td>\n",
              "      <td>2034742.0</td>\n",
              "      <td>6105182.0</td>\n",
              "      <td>14954532.0</td>\n",
              "      <td>9704141.0</td>\n",
              "      <td>3731820.0</td>\n",
              "      <td>7701349.0</td>\n",
              "    </tr>\n",
              "    <tr>\n",
              "      <th>2513</th>\n",
              "      <td>3.347730e+08</td>\n",
              "      <td>5184489.0</td>\n",
              "      <td>7241295.0</td>\n",
              "      <td>3637977.0</td>\n",
              "      <td>9472870.0</td>\n",
              "      <td>10479684.0</td>\n",
              "      <td>92724656.0</td>\n",
              "      <td>8194012.0</td>\n",
              "      <td>9953779.0</td>\n",
              "      <td>0.0</td>\n",
              "      <td>...</td>\n",
              "      <td>12975590.0</td>\n",
              "      <td>53931031.0</td>\n",
              "      <td>9857864.0</td>\n",
              "      <td>8870963.0</td>\n",
              "      <td>2156922.0</td>\n",
              "      <td>7146118.0</td>\n",
              "      <td>20134148.0</td>\n",
              "      <td>9432965.0</td>\n",
              "      <td>5440096.0</td>\n",
              "      <td>11425320.0</td>\n",
              "    </tr>\n",
              "    <tr>\n",
              "      <th>2514</th>\n",
              "      <td>4.527866e+08</td>\n",
              "      <td>11794950.0</td>\n",
              "      <td>7721508.0</td>\n",
              "      <td>5202027.0</td>\n",
              "      <td>19233160.0</td>\n",
              "      <td>11954704.0</td>\n",
              "      <td>78206609.0</td>\n",
              "      <td>8771571.0</td>\n",
              "      <td>10041820.0</td>\n",
              "      <td>0.0</td>\n",
              "      <td>...</td>\n",
              "      <td>20374750.0</td>\n",
              "      <td>82894461.0</td>\n",
              "      <td>9972700.0</td>\n",
              "      <td>12180990.0</td>\n",
              "      <td>2872864.0</td>\n",
              "      <td>7230630.0</td>\n",
              "      <td>22115204.0</td>\n",
              "      <td>12483580.0</td>\n",
              "      <td>6256302.0</td>\n",
              "      <td>14586700.0</td>\n",
              "    </tr>\n",
              "    <tr>\n",
              "      <th>2515</th>\n",
              "      <td>4.501414e+08</td>\n",
              "      <td>10045100.0</td>\n",
              "      <td>7250763.0</td>\n",
              "      <td>3801072.0</td>\n",
              "      <td>8292202.0</td>\n",
              "      <td>11214056.0</td>\n",
              "      <td>81626359.0</td>\n",
              "      <td>6762951.0</td>\n",
              "      <td>11704590.0</td>\n",
              "      <td>0.0</td>\n",
              "      <td>...</td>\n",
              "      <td>18738971.0</td>\n",
              "      <td>91402406.0</td>\n",
              "      <td>10656976.0</td>\n",
              "      <td>9878317.0</td>\n",
              "      <td>2381820.0</td>\n",
              "      <td>6020510.0</td>\n",
              "      <td>18765464.0</td>\n",
              "      <td>10999420.0</td>\n",
              "      <td>7515746.0</td>\n",
              "      <td>14178780.0</td>\n",
              "    </tr>\n",
              "    <tr>\n",
              "      <th>2516</th>\n",
              "      <td>3.261919e+08</td>\n",
              "      <td>9402696.0</td>\n",
              "      <td>8198068.0</td>\n",
              "      <td>3809897.0</td>\n",
              "      <td>9253089.0</td>\n",
              "      <td>5550444.0</td>\n",
              "      <td>80195328.0</td>\n",
              "      <td>8959943.0</td>\n",
              "      <td>8422193.0</td>\n",
              "      <td>0.0</td>\n",
              "      <td>...</td>\n",
              "      <td>11501340.0</td>\n",
              "      <td>66819289.0</td>\n",
              "      <td>14449168.0</td>\n",
              "      <td>12606900.0</td>\n",
              "      <td>4072474.0</td>\n",
              "      <td>11100060.0</td>\n",
              "      <td>21491084.0</td>\n",
              "      <td>10424840.0</td>\n",
              "      <td>5911498.0</td>\n",
              "      <td>8953618.0</td>\n",
              "    </tr>\n",
              "  </tbody>\n",
              "</table>\n",
              "<p>5 rows × 30 columns</p>\n",
              "</div>\n",
              "    <div class=\"colab-df-buttons\">\n",
              "\n",
              "  <div class=\"colab-df-container\">\n",
              "    <button class=\"colab-df-convert\" onclick=\"convertToInteractive('df-d5e5435a-bc46-4f75-ac6f-568b758bb1a9')\"\n",
              "            title=\"Convert this dataframe to an interactive table.\"\n",
              "            style=\"display:none;\">\n",
              "\n",
              "  <svg xmlns=\"http://www.w3.org/2000/svg\" height=\"24px\" viewBox=\"0 -960 960 960\">\n",
              "    <path d=\"M120-120v-720h720v720H120Zm60-500h600v-160H180v160Zm220 220h160v-160H400v160Zm0 220h160v-160H400v160ZM180-400h160v-160H180v160Zm440 0h160v-160H620v160ZM180-180h160v-160H180v160Zm440 0h160v-160H620v160Z\"/>\n",
              "  </svg>\n",
              "    </button>\n",
              "\n",
              "  <style>\n",
              "    .colab-df-container {\n",
              "      display:flex;\n",
              "      gap: 12px;\n",
              "    }\n",
              "\n",
              "    .colab-df-convert {\n",
              "      background-color: #E8F0FE;\n",
              "      border: none;\n",
              "      border-radius: 50%;\n",
              "      cursor: pointer;\n",
              "      display: none;\n",
              "      fill: #1967D2;\n",
              "      height: 32px;\n",
              "      padding: 0 0 0 0;\n",
              "      width: 32px;\n",
              "    }\n",
              "\n",
              "    .colab-df-convert:hover {\n",
              "      background-color: #E2EBFA;\n",
              "      box-shadow: 0px 1px 2px rgba(60, 64, 67, 0.3), 0px 1px 3px 1px rgba(60, 64, 67, 0.15);\n",
              "      fill: #174EA6;\n",
              "    }\n",
              "\n",
              "    .colab-df-buttons div {\n",
              "      margin-bottom: 4px;\n",
              "    }\n",
              "\n",
              "    [theme=dark] .colab-df-convert {\n",
              "      background-color: #3B4455;\n",
              "      fill: #D2E3FC;\n",
              "    }\n",
              "\n",
              "    [theme=dark] .colab-df-convert:hover {\n",
              "      background-color: #434B5C;\n",
              "      box-shadow: 0px 1px 3px 1px rgba(0, 0, 0, 0.15);\n",
              "      filter: drop-shadow(0px 1px 2px rgba(0, 0, 0, 0.3));\n",
              "      fill: #FFFFFF;\n",
              "    }\n",
              "  </style>\n",
              "\n",
              "    <script>\n",
              "      const buttonEl =\n",
              "        document.querySelector('#df-d5e5435a-bc46-4f75-ac6f-568b758bb1a9 button.colab-df-convert');\n",
              "      buttonEl.style.display =\n",
              "        google.colab.kernel.accessAllowed ? 'block' : 'none';\n",
              "\n",
              "      async function convertToInteractive(key) {\n",
              "        const element = document.querySelector('#df-d5e5435a-bc46-4f75-ac6f-568b758bb1a9');\n",
              "        const dataTable =\n",
              "          await google.colab.kernel.invokeFunction('convertToInteractive',\n",
              "                                                    [key], {});\n",
              "        if (!dataTable) return;\n",
              "\n",
              "        const docLinkHtml = 'Like what you see? Visit the ' +\n",
              "          '<a target=\"_blank\" href=https://colab.research.google.com/notebooks/data_table.ipynb>data table notebook</a>'\n",
              "          + ' to learn more about interactive tables.';\n",
              "        element.innerHTML = '';\n",
              "        dataTable['output_type'] = 'display_data';\n",
              "        await google.colab.output.renderOutput(dataTable, element);\n",
              "        const docLink = document.createElement('div');\n",
              "        docLink.innerHTML = docLinkHtml;\n",
              "        element.appendChild(docLink);\n",
              "      }\n",
              "    </script>\n",
              "  </div>\n",
              "\n",
              "\n",
              "<div id=\"df-bae6aa44-62a0-4632-a55e-34fdc75258f3\">\n",
              "  <button class=\"colab-df-quickchart\" onclick=\"quickchart('df-bae6aa44-62a0-4632-a55e-34fdc75258f3')\"\n",
              "            title=\"Suggest charts\"\n",
              "            style=\"display:none;\">\n",
              "\n",
              "<svg xmlns=\"http://www.w3.org/2000/svg\" height=\"24px\"viewBox=\"0 0 24 24\"\n",
              "     width=\"24px\">\n",
              "    <g>\n",
              "        <path d=\"M19 3H5c-1.1 0-2 .9-2 2v14c0 1.1.9 2 2 2h14c1.1 0 2-.9 2-2V5c0-1.1-.9-2-2-2zM9 17H7v-7h2v7zm4 0h-2V7h2v10zm4 0h-2v-4h2v4z\"/>\n",
              "    </g>\n",
              "</svg>\n",
              "  </button>\n",
              "\n",
              "<style>\n",
              "  .colab-df-quickchart {\n",
              "      --bg-color: #E8F0FE;\n",
              "      --fill-color: #1967D2;\n",
              "      --hover-bg-color: #E2EBFA;\n",
              "      --hover-fill-color: #174EA6;\n",
              "      --disabled-fill-color: #AAA;\n",
              "      --disabled-bg-color: #DDD;\n",
              "  }\n",
              "\n",
              "  [theme=dark] .colab-df-quickchart {\n",
              "      --bg-color: #3B4455;\n",
              "      --fill-color: #D2E3FC;\n",
              "      --hover-bg-color: #434B5C;\n",
              "      --hover-fill-color: #FFFFFF;\n",
              "      --disabled-bg-color: #3B4455;\n",
              "      --disabled-fill-color: #666;\n",
              "  }\n",
              "\n",
              "  .colab-df-quickchart {\n",
              "    background-color: var(--bg-color);\n",
              "    border: none;\n",
              "    border-radius: 50%;\n",
              "    cursor: pointer;\n",
              "    display: none;\n",
              "    fill: var(--fill-color);\n",
              "    height: 32px;\n",
              "    padding: 0;\n",
              "    width: 32px;\n",
              "  }\n",
              "\n",
              "  .colab-df-quickchart:hover {\n",
              "    background-color: var(--hover-bg-color);\n",
              "    box-shadow: 0 1px 2px rgba(60, 64, 67, 0.3), 0 1px 3px 1px rgba(60, 64, 67, 0.15);\n",
              "    fill: var(--button-hover-fill-color);\n",
              "  }\n",
              "\n",
              "  .colab-df-quickchart-complete:disabled,\n",
              "  .colab-df-quickchart-complete:disabled:hover {\n",
              "    background-color: var(--disabled-bg-color);\n",
              "    fill: var(--disabled-fill-color);\n",
              "    box-shadow: none;\n",
              "  }\n",
              "\n",
              "  .colab-df-spinner {\n",
              "    border: 2px solid var(--fill-color);\n",
              "    border-color: transparent;\n",
              "    border-bottom-color: var(--fill-color);\n",
              "    animation:\n",
              "      spin 1s steps(1) infinite;\n",
              "  }\n",
              "\n",
              "  @keyframes spin {\n",
              "    0% {\n",
              "      border-color: transparent;\n",
              "      border-bottom-color: var(--fill-color);\n",
              "      border-left-color: var(--fill-color);\n",
              "    }\n",
              "    20% {\n",
              "      border-color: transparent;\n",
              "      border-left-color: var(--fill-color);\n",
              "      border-top-color: var(--fill-color);\n",
              "    }\n",
              "    30% {\n",
              "      border-color: transparent;\n",
              "      border-left-color: var(--fill-color);\n",
              "      border-top-color: var(--fill-color);\n",
              "      border-right-color: var(--fill-color);\n",
              "    }\n",
              "    40% {\n",
              "      border-color: transparent;\n",
              "      border-right-color: var(--fill-color);\n",
              "      border-top-color: var(--fill-color);\n",
              "    }\n",
              "    60% {\n",
              "      border-color: transparent;\n",
              "      border-right-color: var(--fill-color);\n",
              "    }\n",
              "    80% {\n",
              "      border-color: transparent;\n",
              "      border-right-color: var(--fill-color);\n",
              "      border-bottom-color: var(--fill-color);\n",
              "    }\n",
              "    90% {\n",
              "      border-color: transparent;\n",
              "      border-bottom-color: var(--fill-color);\n",
              "    }\n",
              "  }\n",
              "</style>\n",
              "\n",
              "  <script>\n",
              "    async function quickchart(key) {\n",
              "      const quickchartButtonEl =\n",
              "        document.querySelector('#' + key + ' button');\n",
              "      quickchartButtonEl.disabled = true;  // To prevent multiple clicks.\n",
              "      quickchartButtonEl.classList.add('colab-df-spinner');\n",
              "      try {\n",
              "        const charts = await google.colab.kernel.invokeFunction(\n",
              "            'suggestCharts', [key], {});\n",
              "      } catch (error) {\n",
              "        console.error('Error during call to suggestCharts:', error);\n",
              "      }\n",
              "      quickchartButtonEl.classList.remove('colab-df-spinner');\n",
              "      quickchartButtonEl.classList.add('colab-df-quickchart-complete');\n",
              "    }\n",
              "    (() => {\n",
              "      let quickchartButtonEl =\n",
              "        document.querySelector('#df-bae6aa44-62a0-4632-a55e-34fdc75258f3 button');\n",
              "      quickchartButtonEl.style.display =\n",
              "        google.colab.kernel.accessAllowed ? 'block' : 'none';\n",
              "    })();\n",
              "  </script>\n",
              "</div>\n",
              "\n",
              "    </div>\n",
              "  </div>\n"
            ],
            "application/vnd.google.colaboratory.intrinsic+json": {
              "type": "dataframe"
            }
          },
          "metadata": {},
          "execution_count": 39
        }
      ]
    },
    {
      "cell_type": "code",
      "source": [
        "#Set the column names\n",
        "tickers = [\"mmm\", \"axp\", \"amgn\", \"aapl\", \"ba\", \"cat\", \"cvx\", \"csco\", \"ko\", \"gs\",\n",
        "           \"hd\", \"hon\", \"ibm\", \"intc\", \"jnj\", \"jpm\", \"mcd\", \"mrk\", \"msft\", \"nke\",\n",
        "           \"pg\", \"crm\", \"trv\", \"unh\", \"vz\", \"v\", \"wba\", \"wmt\", \"dis\", \"dow\"]\n",
        "tickers.sort()\n",
        "\n",
        "volData.columns = tickers\n",
        "volData.head()"
      ],
      "metadata": {
        "colab": {
          "base_uri": "https://localhost:8080/",
          "height": 256
        },
        "id": "hCYsIZX3YmZS",
        "outputId": "3bb3e472-830a-4c30-896e-f3d0d143d644"
      },
      "execution_count": 49,
      "outputs": [
        {
          "output_type": "execute_result",
          "data": {
            "text/plain": [
              "          aapl       amgn        axp          ba        cat        crm  \\\n",
              "0          0.0        0.0        0.0         0.0        0.0        0.0   \n",
              "1  112172305.0  2432107.0  3487353.0  14931190.0  3668456.0  5482463.0   \n",
              "2  126142797.0  2307165.0  3900087.0  16273170.0  3163104.0  6097853.0   \n",
              "3   88071234.0  4079879.0  2987640.0  14813940.0  3752901.0  5263698.0   \n",
              "4   78973273.0  2513035.0  2617982.0  12822990.0  3327927.0  5774748.0   \n",
              "\n",
              "         csco         cvx         dis        dow  ...         mrk        msft  \\\n",
              "0         0.0         0.0         0.0        0.0  ...         0.0         0.0   \n",
              "1  22123311.0  11661880.0   8988117.0  4886215.0  ...  12766850.0  36684367.0   \n",
              "2  20220910.0  12754780.0  10865550.0  5693429.0  ...  11591970.0  33641594.0   \n",
              "3  23845561.0  13586540.0   8260306.0  5038957.0  ...  10438730.0  29299891.0   \n",
              "4  24146010.0  10273020.0   6888401.0  5174923.0  ...  11677010.0  27032910.0   \n",
              "\n",
              "          nke          pg        trv        unh          v          vz  \\\n",
              "0         0.0         0.0        0.0        0.0        0.0         0.0   \n",
              "1   5865117.0   8853733.0  1343273.0  2888410.0  7721250.0  14718590.0   \n",
              "2   8045369.0  10973730.0  1180231.0  3024021.0  7633289.0  17971891.0   \n",
              "3   5669327.0   8852710.0  1214508.0  2489255.0  9627426.0  22563000.0   \n",
              "4  10566670.0   6299182.0  1057297.0  1851063.0  4529048.0  15678650.0   \n",
              "\n",
              "         wba        wmt  \n",
              "0        0.0        0.0  \n",
              "1  5481645.0  8666144.0  \n",
              "2  5204153.0  8821379.0  \n",
              "3  6248220.0  8769245.0  \n",
              "4  4119741.0  7802805.0  \n",
              "\n",
              "[5 rows x 30 columns]"
            ],
            "text/html": [
              "\n",
              "  <div id=\"df-bda77b83-5c02-482e-9008-7ddcb67719d9\" class=\"colab-df-container\">\n",
              "    <div>\n",
              "<style scoped>\n",
              "    .dataframe tbody tr th:only-of-type {\n",
              "        vertical-align: middle;\n",
              "    }\n",
              "\n",
              "    .dataframe tbody tr th {\n",
              "        vertical-align: top;\n",
              "    }\n",
              "\n",
              "    .dataframe thead th {\n",
              "        text-align: right;\n",
              "    }\n",
              "</style>\n",
              "<table border=\"1\" class=\"dataframe\">\n",
              "  <thead>\n",
              "    <tr style=\"text-align: right;\">\n",
              "      <th></th>\n",
              "      <th>aapl</th>\n",
              "      <th>amgn</th>\n",
              "      <th>axp</th>\n",
              "      <th>ba</th>\n",
              "      <th>cat</th>\n",
              "      <th>crm</th>\n",
              "      <th>csco</th>\n",
              "      <th>cvx</th>\n",
              "      <th>dis</th>\n",
              "      <th>dow</th>\n",
              "      <th>...</th>\n",
              "      <th>mrk</th>\n",
              "      <th>msft</th>\n",
              "      <th>nke</th>\n",
              "      <th>pg</th>\n",
              "      <th>trv</th>\n",
              "      <th>unh</th>\n",
              "      <th>v</th>\n",
              "      <th>vz</th>\n",
              "      <th>wba</th>\n",
              "      <th>wmt</th>\n",
              "    </tr>\n",
              "  </thead>\n",
              "  <tbody>\n",
              "    <tr>\n",
              "      <th>0</th>\n",
              "      <td>0.0</td>\n",
              "      <td>0.0</td>\n",
              "      <td>0.0</td>\n",
              "      <td>0.0</td>\n",
              "      <td>0.0</td>\n",
              "      <td>0.0</td>\n",
              "      <td>0.0</td>\n",
              "      <td>0.0</td>\n",
              "      <td>0.0</td>\n",
              "      <td>0.0</td>\n",
              "      <td>...</td>\n",
              "      <td>0.0</td>\n",
              "      <td>0.0</td>\n",
              "      <td>0.0</td>\n",
              "      <td>0.0</td>\n",
              "      <td>0.0</td>\n",
              "      <td>0.0</td>\n",
              "      <td>0.0</td>\n",
              "      <td>0.0</td>\n",
              "      <td>0.0</td>\n",
              "      <td>0.0</td>\n",
              "    </tr>\n",
              "    <tr>\n",
              "      <th>1</th>\n",
              "      <td>112172305.0</td>\n",
              "      <td>2432107.0</td>\n",
              "      <td>3487353.0</td>\n",
              "      <td>14931190.0</td>\n",
              "      <td>3668456.0</td>\n",
              "      <td>5482463.0</td>\n",
              "      <td>22123311.0</td>\n",
              "      <td>11661880.0</td>\n",
              "      <td>8988117.0</td>\n",
              "      <td>4886215.0</td>\n",
              "      <td>...</td>\n",
              "      <td>12766850.0</td>\n",
              "      <td>36684367.0</td>\n",
              "      <td>5865117.0</td>\n",
              "      <td>8853733.0</td>\n",
              "      <td>1343273.0</td>\n",
              "      <td>2888410.0</td>\n",
              "      <td>7721250.0</td>\n",
              "      <td>14718590.0</td>\n",
              "      <td>5481645.0</td>\n",
              "      <td>8666144.0</td>\n",
              "    </tr>\n",
              "    <tr>\n",
              "      <th>2</th>\n",
              "      <td>126142797.0</td>\n",
              "      <td>2307165.0</td>\n",
              "      <td>3900087.0</td>\n",
              "      <td>16273170.0</td>\n",
              "      <td>3163104.0</td>\n",
              "      <td>6097853.0</td>\n",
              "      <td>20220910.0</td>\n",
              "      <td>12754780.0</td>\n",
              "      <td>10865550.0</td>\n",
              "      <td>5693429.0</td>\n",
              "      <td>...</td>\n",
              "      <td>11591970.0</td>\n",
              "      <td>33641594.0</td>\n",
              "      <td>8045369.0</td>\n",
              "      <td>10973730.0</td>\n",
              "      <td>1180231.0</td>\n",
              "      <td>3024021.0</td>\n",
              "      <td>7633289.0</td>\n",
              "      <td>17971891.0</td>\n",
              "      <td>5204153.0</td>\n",
              "      <td>8821379.0</td>\n",
              "    </tr>\n",
              "    <tr>\n",
              "      <th>3</th>\n",
              "      <td>88071234.0</td>\n",
              "      <td>4079879.0</td>\n",
              "      <td>2987640.0</td>\n",
              "      <td>14813940.0</td>\n",
              "      <td>3752901.0</td>\n",
              "      <td>5263698.0</td>\n",
              "      <td>23845561.0</td>\n",
              "      <td>13586540.0</td>\n",
              "      <td>8260306.0</td>\n",
              "      <td>5038957.0</td>\n",
              "      <td>...</td>\n",
              "      <td>10438730.0</td>\n",
              "      <td>29299891.0</td>\n",
              "      <td>5669327.0</td>\n",
              "      <td>8852710.0</td>\n",
              "      <td>1214508.0</td>\n",
              "      <td>2489255.0</td>\n",
              "      <td>9627426.0</td>\n",
              "      <td>22563000.0</td>\n",
              "      <td>6248220.0</td>\n",
              "      <td>8769245.0</td>\n",
              "    </tr>\n",
              "    <tr>\n",
              "      <th>4</th>\n",
              "      <td>78973273.0</td>\n",
              "      <td>2513035.0</td>\n",
              "      <td>2617982.0</td>\n",
              "      <td>12822990.0</td>\n",
              "      <td>3327927.0</td>\n",
              "      <td>5774748.0</td>\n",
              "      <td>24146010.0</td>\n",
              "      <td>10273020.0</td>\n",
              "      <td>6888401.0</td>\n",
              "      <td>5174923.0</td>\n",
              "      <td>...</td>\n",
              "      <td>11677010.0</td>\n",
              "      <td>27032910.0</td>\n",
              "      <td>10566670.0</td>\n",
              "      <td>6299182.0</td>\n",
              "      <td>1057297.0</td>\n",
              "      <td>1851063.0</td>\n",
              "      <td>4529048.0</td>\n",
              "      <td>15678650.0</td>\n",
              "      <td>4119741.0</td>\n",
              "      <td>7802805.0</td>\n",
              "    </tr>\n",
              "  </tbody>\n",
              "</table>\n",
              "<p>5 rows × 30 columns</p>\n",
              "</div>\n",
              "    <div class=\"colab-df-buttons\">\n",
              "\n",
              "  <div class=\"colab-df-container\">\n",
              "    <button class=\"colab-df-convert\" onclick=\"convertToInteractive('df-bda77b83-5c02-482e-9008-7ddcb67719d9')\"\n",
              "            title=\"Convert this dataframe to an interactive table.\"\n",
              "            style=\"display:none;\">\n",
              "\n",
              "  <svg xmlns=\"http://www.w3.org/2000/svg\" height=\"24px\" viewBox=\"0 -960 960 960\">\n",
              "    <path d=\"M120-120v-720h720v720H120Zm60-500h600v-160H180v160Zm220 220h160v-160H400v160Zm0 220h160v-160H400v160ZM180-400h160v-160H180v160Zm440 0h160v-160H620v160ZM180-180h160v-160H180v160Zm440 0h160v-160H620v160Z\"/>\n",
              "  </svg>\n",
              "    </button>\n",
              "\n",
              "  <style>\n",
              "    .colab-df-container {\n",
              "      display:flex;\n",
              "      gap: 12px;\n",
              "    }\n",
              "\n",
              "    .colab-df-convert {\n",
              "      background-color: #E8F0FE;\n",
              "      border: none;\n",
              "      border-radius: 50%;\n",
              "      cursor: pointer;\n",
              "      display: none;\n",
              "      fill: #1967D2;\n",
              "      height: 32px;\n",
              "      padding: 0 0 0 0;\n",
              "      width: 32px;\n",
              "    }\n",
              "\n",
              "    .colab-df-convert:hover {\n",
              "      background-color: #E2EBFA;\n",
              "      box-shadow: 0px 1px 2px rgba(60, 64, 67, 0.3), 0px 1px 3px 1px rgba(60, 64, 67, 0.15);\n",
              "      fill: #174EA6;\n",
              "    }\n",
              "\n",
              "    .colab-df-buttons div {\n",
              "      margin-bottom: 4px;\n",
              "    }\n",
              "\n",
              "    [theme=dark] .colab-df-convert {\n",
              "      background-color: #3B4455;\n",
              "      fill: #D2E3FC;\n",
              "    }\n",
              "\n",
              "    [theme=dark] .colab-df-convert:hover {\n",
              "      background-color: #434B5C;\n",
              "      box-shadow: 0px 1px 3px 1px rgba(0, 0, 0, 0.15);\n",
              "      filter: drop-shadow(0px 1px 2px rgba(0, 0, 0, 0.3));\n",
              "      fill: #FFFFFF;\n",
              "    }\n",
              "  </style>\n",
              "\n",
              "    <script>\n",
              "      const buttonEl =\n",
              "        document.querySelector('#df-bda77b83-5c02-482e-9008-7ddcb67719d9 button.colab-df-convert');\n",
              "      buttonEl.style.display =\n",
              "        google.colab.kernel.accessAllowed ? 'block' : 'none';\n",
              "\n",
              "      async function convertToInteractive(key) {\n",
              "        const element = document.querySelector('#df-bda77b83-5c02-482e-9008-7ddcb67719d9');\n",
              "        const dataTable =\n",
              "          await google.colab.kernel.invokeFunction('convertToInteractive',\n",
              "                                                    [key], {});\n",
              "        if (!dataTable) return;\n",
              "\n",
              "        const docLinkHtml = 'Like what you see? Visit the ' +\n",
              "          '<a target=\"_blank\" href=https://colab.research.google.com/notebooks/data_table.ipynb>data table notebook</a>'\n",
              "          + ' to learn more about interactive tables.';\n",
              "        element.innerHTML = '';\n",
              "        dataTable['output_type'] = 'display_data';\n",
              "        await google.colab.output.renderOutput(dataTable, element);\n",
              "        const docLink = document.createElement('div');\n",
              "        docLink.innerHTML = docLinkHtml;\n",
              "        element.appendChild(docLink);\n",
              "      }\n",
              "    </script>\n",
              "  </div>\n",
              "\n",
              "\n",
              "<div id=\"df-aef9e4d5-b193-4203-9eaf-baa46677a1c2\">\n",
              "  <button class=\"colab-df-quickchart\" onclick=\"quickchart('df-aef9e4d5-b193-4203-9eaf-baa46677a1c2')\"\n",
              "            title=\"Suggest charts\"\n",
              "            style=\"display:none;\">\n",
              "\n",
              "<svg xmlns=\"http://www.w3.org/2000/svg\" height=\"24px\"viewBox=\"0 0 24 24\"\n",
              "     width=\"24px\">\n",
              "    <g>\n",
              "        <path d=\"M19 3H5c-1.1 0-2 .9-2 2v14c0 1.1.9 2 2 2h14c1.1 0 2-.9 2-2V5c0-1.1-.9-2-2-2zM9 17H7v-7h2v7zm4 0h-2V7h2v10zm4 0h-2v-4h2v4z\"/>\n",
              "    </g>\n",
              "</svg>\n",
              "  </button>\n",
              "\n",
              "<style>\n",
              "  .colab-df-quickchart {\n",
              "      --bg-color: #E8F0FE;\n",
              "      --fill-color: #1967D2;\n",
              "      --hover-bg-color: #E2EBFA;\n",
              "      --hover-fill-color: #174EA6;\n",
              "      --disabled-fill-color: #AAA;\n",
              "      --disabled-bg-color: #DDD;\n",
              "  }\n",
              "\n",
              "  [theme=dark] .colab-df-quickchart {\n",
              "      --bg-color: #3B4455;\n",
              "      --fill-color: #D2E3FC;\n",
              "      --hover-bg-color: #434B5C;\n",
              "      --hover-fill-color: #FFFFFF;\n",
              "      --disabled-bg-color: #3B4455;\n",
              "      --disabled-fill-color: #666;\n",
              "  }\n",
              "\n",
              "  .colab-df-quickchart {\n",
              "    background-color: var(--bg-color);\n",
              "    border: none;\n",
              "    border-radius: 50%;\n",
              "    cursor: pointer;\n",
              "    display: none;\n",
              "    fill: var(--fill-color);\n",
              "    height: 32px;\n",
              "    padding: 0;\n",
              "    width: 32px;\n",
              "  }\n",
              "\n",
              "  .colab-df-quickchart:hover {\n",
              "    background-color: var(--hover-bg-color);\n",
              "    box-shadow: 0 1px 2px rgba(60, 64, 67, 0.3), 0 1px 3px 1px rgba(60, 64, 67, 0.15);\n",
              "    fill: var(--button-hover-fill-color);\n",
              "  }\n",
              "\n",
              "  .colab-df-quickchart-complete:disabled,\n",
              "  .colab-df-quickchart-complete:disabled:hover {\n",
              "    background-color: var(--disabled-bg-color);\n",
              "    fill: var(--disabled-fill-color);\n",
              "    box-shadow: none;\n",
              "  }\n",
              "\n",
              "  .colab-df-spinner {\n",
              "    border: 2px solid var(--fill-color);\n",
              "    border-color: transparent;\n",
              "    border-bottom-color: var(--fill-color);\n",
              "    animation:\n",
              "      spin 1s steps(1) infinite;\n",
              "  }\n",
              "\n",
              "  @keyframes spin {\n",
              "    0% {\n",
              "      border-color: transparent;\n",
              "      border-bottom-color: var(--fill-color);\n",
              "      border-left-color: var(--fill-color);\n",
              "    }\n",
              "    20% {\n",
              "      border-color: transparent;\n",
              "      border-left-color: var(--fill-color);\n",
              "      border-top-color: var(--fill-color);\n",
              "    }\n",
              "    30% {\n",
              "      border-color: transparent;\n",
              "      border-left-color: var(--fill-color);\n",
              "      border-top-color: var(--fill-color);\n",
              "      border-right-color: var(--fill-color);\n",
              "    }\n",
              "    40% {\n",
              "      border-color: transparent;\n",
              "      border-right-color: var(--fill-color);\n",
              "      border-top-color: var(--fill-color);\n",
              "    }\n",
              "    60% {\n",
              "      border-color: transparent;\n",
              "      border-right-color: var(--fill-color);\n",
              "    }\n",
              "    80% {\n",
              "      border-color: transparent;\n",
              "      border-right-color: var(--fill-color);\n",
              "      border-bottom-color: var(--fill-color);\n",
              "    }\n",
              "    90% {\n",
              "      border-color: transparent;\n",
              "      border-bottom-color: var(--fill-color);\n",
              "    }\n",
              "  }\n",
              "</style>\n",
              "\n",
              "  <script>\n",
              "    async function quickchart(key) {\n",
              "      const quickchartButtonEl =\n",
              "        document.querySelector('#' + key + ' button');\n",
              "      quickchartButtonEl.disabled = true;  // To prevent multiple clicks.\n",
              "      quickchartButtonEl.classList.add('colab-df-spinner');\n",
              "      try {\n",
              "        const charts = await google.colab.kernel.invokeFunction(\n",
              "            'suggestCharts', [key], {});\n",
              "      } catch (error) {\n",
              "        console.error('Error during call to suggestCharts:', error);\n",
              "      }\n",
              "      quickchartButtonEl.classList.remove('colab-df-spinner');\n",
              "      quickchartButtonEl.classList.add('colab-df-quickchart-complete');\n",
              "    }\n",
              "    (() => {\n",
              "      let quickchartButtonEl =\n",
              "        document.querySelector('#df-aef9e4d5-b193-4203-9eaf-baa46677a1c2 button');\n",
              "      quickchartButtonEl.style.display =\n",
              "        google.colab.kernel.accessAllowed ? 'block' : 'none';\n",
              "    })();\n",
              "  </script>\n",
              "</div>\n",
              "\n",
              "    </div>\n",
              "  </div>\n"
            ],
            "application/vnd.google.colaboratory.intrinsic+json": {
              "type": "dataframe",
              "variable_name": "volData"
            }
          },
          "metadata": {},
          "execution_count": 49
        }
      ]
    },
    {
      "cell_type": "markdown",
      "source": [
        "plot the time series"
      ],
      "metadata": {
        "id": "spnWnaaYHKMJ"
      }
    },
    {
      "cell_type": "code",
      "source": [
        "for i in range(volData.shape[1]):\n",
        "  plt.plot(volData.iloc[:,i])\n",
        "  plt.title(\"Stock Prices\")\n",
        "  plt.xlabel(\"Time\")\n",
        "  plt.ylabel(\"Price\")\n",
        "  plt.legend(tickers)\n",
        "\n",
        ""
      ],
      "metadata": {
        "id": "24SRp3dRwbif",
        "colab": {
          "base_uri": "https://localhost:8080/",
          "height": 698
        },
        "outputId": "2c0b7602-2366-42f3-d01b-18681ff77da1"
      },
      "execution_count": 55,
      "outputs": [
        {
          "output_type": "display_data",
          "data": {
            "text/plain": [
              "<Figure size 640x480 with 1 Axes>"
            ],
            "image/png": "[encoded data removed]"
          },
          "metadata": {}
        }
      ]
    },
    {
      "cell_type": "markdown",
      "source": [
        "scale the time series appropriately\n",
        "hint: use Standard Scaler to save the mean and standard deviation of each time series, that way you can apply them later to your predicted results"
      ],
      "metadata": {
        "id": "k8A8A5SFHRCa"
      }
    },
    {
      "cell_type": "code",
      "source": [
        "...\n",
        "print(scaler.mean_)\n"
      ],
      "metadata": {
        "colab": {
          "base_uri": "https://localhost:8080/"
        },
        "id": "1icBXu8DrXCV",
        "outputId": "f05a8eb4-4511-4659-c919-8e3c15121d87"
      },
      "execution_count": null,
      "outputs": [
        {
          "output_type": "stream",
          "name": "stdout",
          "text": [
            "[9.22106420e+06 6.22716013e+06 3.69958000e+06 8.56753041e+06\n",
            " 2.00906164e+06 3.20954830e+06 1.95325344e+07 4.47784854e+06\n",
            " 5.49183710e+06 3.61821291e+07 0.00000000e+00 2.70803716e+06\n",
            " 8.38845291e+06 9.05137382e+06 3.68032742e+06 1.57255425e+07\n",
            " 4.64859694e+06 8.38605635e+06 3.23061745e+07 1.44888552e+07\n",
            " 2.41918808e+08 1.07715065e+07 6.13210239e+06 4.83503569e+06\n",
            " 4.82569939e+06 3.04478866e+07 1.16112013e+07 7.59459024e+06\n",
            " 6.39931196e+06]\n"
          ]
        }
      ]
    },
    {
      "cell_type": "code",
      "source": [
        "scaled_data.mean(axis=1)"
      ],
      "metadata": {
        "colab": {
          "base_uri": "https://localhost:8080/"
        },
        "id": "IwVLSsbcsJWF",
        "outputId": "a701a223-4054-45c1-f013-5c6337640833"
      },
      "execution_count": null,
      "outputs": [
        {
          "output_type": "execute_result",
          "data": {
            "text/plain": [
              "array([-6.21301279e-17,  7.90747083e-17, -6.77783214e-17,  8.47229017e-17,\n",
              "        9.03710952e-17, -1.12963869e-17, -9.03710952e-17,  1.58149417e-16,\n",
              "       -6.77783214e-17, -1.12963869e-16,  0.00000000e+00,  1.58149417e-16,\n",
              "       -6.77783214e-17,  5.36578378e-17, -1.12963869e-16,  7.20144665e-17,\n",
              "        2.54168705e-17,  9.03710952e-17,  4.51855476e-17,  3.38891607e-17,\n",
              "        1.35556643e-16, -9.03710952e-17, -9.03710952e-17, -1.35556643e-16,\n",
              "       -4.51855476e-17, -4.51855476e-17, -9.03710952e-17,  2.25927738e-17,\n",
              "        0.00000000e+00])"
            ]
          },
          "metadata": {},
          "execution_count": 71
        }
      ]
    },
    {
      "cell_type": "code",
      "source": [
        "scaled_data.std(axis=1)"
      ],
      "metadata": {
        "colab": {
          "base_uri": "https://localhost:8080/"
        },
        "id": "zgHmLbtrstBf",
        "outputId": "1b0a0668-37ac-4360-bf50-7d1529b97cdd"
      },
      "execution_count": null,
      "outputs": [
        {
          "output_type": "execute_result",
          "data": {
            "text/plain": [
              "array([1., 1., 1., 1., 1., 1., 1., 1., 1., 1., 0., 1., 1., 1., 1., 1., 1.,\n",
              "       1., 1., 1., 1., 1., 1., 1., 1., 1., 1., 1., 1.])"
            ]
          },
          "metadata": {},
          "execution_count": 72
        }
      ]
    },
    {
      "cell_type": "markdown",
      "source": [
        "split traiing and testimg data"
      ],
      "metadata": {
        "id": "LTjJZhTfIM7i"
      }
    },
    {
      "cell_type": "code",
      "source": [
        "....."
      ],
      "metadata": {
        "id": "rU0ufgSdteyy"
      },
      "execution_count": null,
      "outputs": []
    },
    {
      "cell_type": "code",
      "source": [
        "X_train.shape, X_test.shape, y_train.shape, y_test.shape"
      ],
      "metadata": {
        "id": "AIMbqi7lOIdq"
      },
      "execution_count": null,
      "outputs": []
    },
    {
      "cell_type": "markdown",
      "source": [
        "build the model. It shoudl be a MLP (Multi Layer Perceptron) thus the only kind of layers you need are Dense layers (`from keras.layers import Dense`). Keep in mind the size of the initial time series. By definition a autoencoder will start with large layers, shdink the number of neurons in each layer progressively till a \"bottle neck\" layer (e.g. 32 neurons, but try what works). then add progressively larger layers until the last layer has the same size as the imput data. Use `relu` activation functions for all layers but the last one, which shoudl be `linear`"
      ],
      "metadata": {
        "id": "x7MOqNR7IWtS"
      }
    },
    {
      "cell_type": "code",
      "source": [
        "input_size = scaled_data.shape[1]\n",
        "model = Sequential()\n",
        "model.add(Dense(512, activation='sigmoid', input_shape=(input_size,)))\n",
        "...."
      ],
      "metadata": {
        "id": "CwOu6nySnmZ8"
      },
      "execution_count": null,
      "outputs": []
    },
    {
      "cell_type": "code",
      "source": [
        "# this is a call back that ensures you stop training when the validation loss stops improving (es)\n",
        "# ad saves the model if it is better than the model at the previous training epoch (mc)\n",
        "\n",
        "es = EarlyStopping(monitor='val_loss', mode='min', verbose=1, patience=10)\n",
        "mc = ModelCheckpoint('best_model.h5', monitor='val_loss', mode='min', verbose=1, save_best_only=True)\n"
      ],
      "metadata": {
        "id": "OKacvhd9OdEA"
      },
      "execution_count": null,
      "outputs": []
    },
    {
      "cell_type": "markdown",
      "source": [
        "write the `model.compile` command passing to the compile function the `adam` optimizer and `mean_squared_error` loss function\n",
        "\n",
        "```model.compile(...```\n"
      ],
      "metadata": {
        "id": "eGNr65MPJtDy"
      }
    },
    {
      "cell_type": "code",
      "source": [
        "model.compile(..."
      ],
      "metadata": {
        "id": "Mgn7CGU9Sm2K"
      },
      "execution_count": null,
      "outputs": []
    },
    {
      "cell_type": "code",
      "source": [
        "model.summary()"
      ],
      "metadata": {
        "colab": {
          "base_uri": "https://localhost:8080/",
          "height": 391
        },
        "id": "4OAyKx42sxio",
        "outputId": "012ce76f-c47b-408b-fb05-706d56d25c71"
      },
      "execution_count": null,
      "outputs": [
        {
          "output_type": "display_data",
          "data": {
            "text/plain": [
              "\u001b[1mModel: \"sequential_7\"\u001b[0m\n"
            ],
            "text/html": [
              "<pre style=\"white-space:pre;overflow-x:auto;line-height:normal;font-family:Menlo,'DejaVu Sans Mono',consolas,'Courier New',monospace\"><span style=\"font-weight: bold\">Model: \"sequential_7\"</span>\n",
              "</pre>\n"
            ]
          },
          "metadata": {}
        },
        {
          "output_type": "display_data",
          "data": {
            "text/plain": [
              "┏━━━━━━━━━━━━━━━━━━━━━━━━━━━━━━━━━┳━━━━━━━━━━━━━━━━━━━━━━━━┳━━━━━━━━━━━━━━━┓\n",
              "┃\u001b[1m \u001b[0m\u001b[1mLayer (type)                   \u001b[0m\u001b[1m \u001b[0m┃\u001b[1m \u001b[0m\u001b[1mOutput Shape          \u001b[0m\u001b[1m \u001b[0m┃\u001b[1m \u001b[0m\u001b[1m      Param #\u001b[0m\u001b[1m \u001b[0m┃\n",
              "┡━━━━━━━━━━━━━━━━━━━━━━━━━━━━━━━━━╇━━━━━━━━━━━━━━━━━━━━━━━━╇━━━━━━━━━━━━━━━┩\n",
              "│ dense_26 (\u001b[38;5;33mDense\u001b[0m)                │ (\u001b[38;5;45mNone\u001b[0m, \u001b[38;5;34m512\u001b[0m)            │     \u001b[38;5;34m1,288,704\u001b[0m │\n",
              "├─────────────────────────────────┼────────────────────────┼───────────────┤\n",
              "│ dense_27 (\u001b[38;5;33mDense\u001b[0m)                │ (\u001b[38;5;45mNone\u001b[0m, \u001b[38;5;34m128\u001b[0m)            │        \u001b[38;5;34m65,664\u001b[0m │\n",
              "├─────────────────────────────────┼────────────────────────┼───────────────┤\n",
              "│ dense_28 (\u001b[38;5;33mDense\u001b[0m)                │ (\u001b[38;5;45mNone\u001b[0m, \u001b[38;5;34m64\u001b[0m)             │         \u001b[38;5;34m8,256\u001b[0m │\n",
              "├─────────────────────────────────┼────────────────────────┼───────────────┤\n",
              "│ dense_29 (\u001b[38;5;33mDense\u001b[0m)                │ (\u001b[38;5;45mNone\u001b[0m, \u001b[38;5;34m32\u001b[0m)             │         \u001b[38;5;34m2,080\u001b[0m │\n",
              "├─────────────────────────────────┼────────────────────────┼───────────────┤\n",
              "│ dense_30 (\u001b[38;5;33mDense\u001b[0m)                │ (\u001b[38;5;45mNone\u001b[0m, \u001b[38;5;34m64\u001b[0m)             │         \u001b[38;5;34m2,112\u001b[0m │\n",
              "├─────────────────────────────────┼────────────────────────┼───────────────┤\n",
              "│ dense_31 (\u001b[38;5;33mDense\u001b[0m)                │ (\u001b[38;5;45mNone\u001b[0m, \u001b[38;5;34m128\u001b[0m)            │         \u001b[38;5;34m8,320\u001b[0m │\n",
              "├─────────────────────────────────┼────────────────────────┼───────────────┤\n",
              "│ dense_32 (\u001b[38;5;33mDense\u001b[0m)                │ (\u001b[38;5;45mNone\u001b[0m, \u001b[38;5;34m512\u001b[0m)            │        \u001b[38;5;34m66,048\u001b[0m │\n",
              "├─────────────────────────────────┼────────────────────────┼───────────────┤\n",
              "│ dense_33 (\u001b[38;5;33mDense\u001b[0m)                │ (\u001b[38;5;45mNone\u001b[0m, \u001b[38;5;34m2516\u001b[0m)           │     \u001b[38;5;34m1,290,708\u001b[0m │\n",
              "└─────────────────────────────────┴────────────────────────┴───────────────┘\n"
            ],
            "text/html": [
              "<pre style=\"white-space:pre;overflow-x:auto;line-height:normal;font-family:Menlo,'DejaVu Sans Mono',consolas,'Courier New',monospace\">┏━━━━━━━━━━━━━━━━━━━━━━━━━━━━━━━━━┳━━━━━━━━━━━━━━━━━━━━━━━━┳━━━━━━━━━━━━━━━┓\n",
              "┃<span style=\"font-weight: bold\"> Layer (type)                    </span>┃<span style=\"font-weight: bold\"> Output Shape           </span>┃<span style=\"font-weight: bold\">       Param # </span>┃\n",
              "┡━━━━━━━━━━━━━━━━━━━━━━━━━━━━━━━━━╇━━━━━━━━━━━━━━━━━━━━━━━━╇━━━━━━━━━━━━━━━┩\n",
              "│ dense_26 (<span style=\"color: #0087ff; text-decoration-color: #0087ff\">Dense</span>)                │ (<span style=\"color: #00d7ff; text-decoration-color: #00d7ff\">None</span>, <span style=\"color: #00af00; text-decoration-color: #00af00\">512</span>)            │     <span style=\"color: #00af00; text-decoration-color: #00af00\">1,288,704</span> │\n",
              "├─────────────────────────────────┼────────────────────────┼───────────────┤\n",
              "│ dense_27 (<span style=\"color: #0087ff; text-decoration-color: #0087ff\">Dense</span>)                │ (<span style=\"color: #00d7ff; text-decoration-color: #00d7ff\">None</span>, <span style=\"color: #00af00; text-decoration-color: #00af00\">128</span>)            │        <span style=\"color: #00af00; text-decoration-color: #00af00\">65,664</span> │\n",
              "├─────────────────────────────────┼────────────────────────┼───────────────┤\n",
              "│ dense_28 (<span style=\"color: #0087ff; text-decoration-color: #0087ff\">Dense</span>)                │ (<span style=\"color: #00d7ff; text-decoration-color: #00d7ff\">None</span>, <span style=\"color: #00af00; text-decoration-color: #00af00\">64</span>)             │         <span style=\"color: #00af00; text-decoration-color: #00af00\">8,256</span> │\n",
              "├─────────────────────────────────┼────────────────────────┼───────────────┤\n",
              "│ dense_29 (<span style=\"color: #0087ff; text-decoration-color: #0087ff\">Dense</span>)                │ (<span style=\"color: #00d7ff; text-decoration-color: #00d7ff\">None</span>, <span style=\"color: #00af00; text-decoration-color: #00af00\">32</span>)             │         <span style=\"color: #00af00; text-decoration-color: #00af00\">2,080</span> │\n",
              "├─────────────────────────────────┼────────────────────────┼───────────────┤\n",
              "│ dense_30 (<span style=\"color: #0087ff; text-decoration-color: #0087ff\">Dense</span>)                │ (<span style=\"color: #00d7ff; text-decoration-color: #00d7ff\">None</span>, <span style=\"color: #00af00; text-decoration-color: #00af00\">64</span>)             │         <span style=\"color: #00af00; text-decoration-color: #00af00\">2,112</span> │\n",
              "├─────────────────────────────────┼────────────────────────┼───────────────┤\n",
              "│ dense_31 (<span style=\"color: #0087ff; text-decoration-color: #0087ff\">Dense</span>)                │ (<span style=\"color: #00d7ff; text-decoration-color: #00d7ff\">None</span>, <span style=\"color: #00af00; text-decoration-color: #00af00\">128</span>)            │         <span style=\"color: #00af00; text-decoration-color: #00af00\">8,320</span> │\n",
              "├─────────────────────────────────┼────────────────────────┼───────────────┤\n",
              "│ dense_32 (<span style=\"color: #0087ff; text-decoration-color: #0087ff\">Dense</span>)                │ (<span style=\"color: #00d7ff; text-decoration-color: #00d7ff\">None</span>, <span style=\"color: #00af00; text-decoration-color: #00af00\">512</span>)            │        <span style=\"color: #00af00; text-decoration-color: #00af00\">66,048</span> │\n",
              "├─────────────────────────────────┼────────────────────────┼───────────────┤\n",
              "│ dense_33 (<span style=\"color: #0087ff; text-decoration-color: #0087ff\">Dense</span>)                │ (<span style=\"color: #00d7ff; text-decoration-color: #00d7ff\">None</span>, <span style=\"color: #00af00; text-decoration-color: #00af00\">2516</span>)           │     <span style=\"color: #00af00; text-decoration-color: #00af00\">1,290,708</span> │\n",
              "└─────────────────────────────────┴────────────────────────┴───────────────┘\n",
              "</pre>\n"
            ]
          },
          "metadata": {}
        },
        {
          "output_type": "display_data",
          "data": {
            "text/plain": [
              "\u001b[1m Total params: \u001b[0m\u001b[38;5;34m2,731,892\u001b[0m (10.42 MB)\n"
            ],
            "text/html": [
              "<pre style=\"white-space:pre;overflow-x:auto;line-height:normal;font-family:Menlo,'DejaVu Sans Mono',consolas,'Courier New',monospace\"><span style=\"font-weight: bold\"> Total params: </span><span style=\"color: #00af00; text-decoration-color: #00af00\">2,731,892</span> (10.42 MB)\n",
              "</pre>\n"
            ]
          },
          "metadata": {}
        },
        {
          "output_type": "display_data",
          "data": {
            "text/plain": [
              "\u001b[1m Trainable params: \u001b[0m\u001b[38;5;34m2,731,892\u001b[0m (10.42 MB)\n"
            ],
            "text/html": [
              "<pre style=\"white-space:pre;overflow-x:auto;line-height:normal;font-family:Menlo,'DejaVu Sans Mono',consolas,'Courier New',monospace\"><span style=\"font-weight: bold\"> Trainable params: </span><span style=\"color: #00af00; text-decoration-color: #00af00\">2,731,892</span> (10.42 MB)\n",
              "</pre>\n"
            ]
          },
          "metadata": {}
        },
        {
          "output_type": "display_data",
          "data": {
            "text/plain": [
              "\u001b[1m Non-trainable params: \u001b[0m\u001b[38;5;34m0\u001b[0m (0.00 B)\n"
            ],
            "text/html": [
              "<pre style=\"white-space:pre;overflow-x:auto;line-height:normal;font-family:Menlo,'DejaVu Sans Mono',consolas,'Courier New',monospace\"><span style=\"font-weight: bold\"> Non-trainable params: </span><span style=\"color: #00af00; text-decoration-color: #00af00\">0</span> (0.00 B)\n",
              "</pre>\n"
            ]
          },
          "metadata": {}
        }
      ]
    },
    {
      "cell_type": "markdown",
      "source": [
        "write the model.fit command. This will start the training of the neural network.\n",
        "pass to the fit() function the following arguments:\n",
        "- the imput data: that is your data train pd.array\n",
        "- the desired output.... pay attention! this is an autoencoder so it should reproduce with fidelity the input data!\n",
        "- create an internal validation set: this will split the training data so that at each epoch you can assess the model performance on unseen data `validation_split=0.1`\n",
        "- set up training for 200 epochs with the `epoch=200` argument\n",
        "- set the `batch_size`. I set it to 10, you can try different things. Larger batch makes a faster code the has higher risk of overfitting\n",
        "- set `verbose=1`\n",
        "- add the callbacks with `callbacks=[es, mc]\n",
        "\n",
        "\n",
        "```training = model.fit(.....```\n",
        "\n"
      ],
      "metadata": {
        "id": "B0LfolfTJ5LV"
      }
    },
    {
      "cell_type": "code",
      "source": [
        "#remove\n",
        "training = model.fit(....."
      ],
      "metadata": {
        "colab": {
          "base_uri": "https://localhost:8080/"
        },
        "id": "T5aa5-bStQr1",
        "outputId": "374b0bc6-baab-4de3-e467-419e0df9d829"
      },
      "execution_count": null,
      "outputs": [
        {
          "output_type": "stream",
          "name": "stdout",
          "text": [
            "Epoch 1/200\n",
            "\u001b[1m3/3\u001b[0m \u001b[32m━━━━━━━━━━━━━━━━━━━━\u001b[0m\u001b[37m\u001b[0m \u001b[1m0s\u001b[0m 27ms/step - loss: 0.9975\n",
            "Epoch 1: val_loss improved from inf to 0.77445, saving model to best_model.h5\n"
          ]
        },
        {
          "output_type": "stream",
          "name": "stderr",
          "text": [
            "WARNING:absl:You are saving your model as an HDF5 file via `model.save()` or `keras.saving.save_model(model)`. This file format is considered legacy. We recommend using instead the native Keras format, e.g. `model.save('my_model.keras')` or `keras.saving.save_model(model, 'my_model.keras')`. \n"
          ]
        },
        {
          "output_type": "stream",
          "name": "stdout",
          "text": [
            "\b\b\b\b\b\b\b\b\b\b\b\b\b\b\b\b\b\b\b\b\b\b\b\b\b\b\b\b\b\b\b\b\b\b\b\b\b\b\b\b\b\b\b\b\b\b\b\b\b\b\b\b\r\u001b[1m3/3\u001b[0m \u001b[32m━━━━━━━━━━━━━━━━━━━━\u001b[0m\u001b[37m\u001b[0m \u001b[1m4s\u001b[0m 224ms/step - loss: 0.9860 - val_loss: 0.7745\n",
            "Epoch 2/200\n",
            "\u001b[1m3/3\u001b[0m \u001b[32m━━━━━━━━━━━━━━━━━━━━\u001b[0m\u001b[37m\u001b[0m \u001b[1m0s\u001b[0m 40ms/step - loss: 0.7302 \n",
            "Epoch 2: val_loss improved from 0.77445 to 0.75359, saving model to best_model.h5\n"
          ]
        },
        {
          "output_type": "stream",
          "name": "stderr",
          "text": [
            "WARNING:absl:You are saving your model as an HDF5 file via `model.save()` or `keras.saving.save_model(model)`. This file format is considered legacy. We recommend using instead the native Keras format, e.g. `model.save('my_model.keras')` or `keras.saving.save_model(model, 'my_model.keras')`. \n"
          ]
        },
        {
          "output_type": "stream",
          "name": "stdout",
          "text": [
            "\b\b\b\b\b\b\b\b\b\b\b\b\b\b\b\b\b\b\b\b\b\b\b\b\b\b\b\b\b\b\b\b\b\b\b\b\b\b\b\b\b\b\b\b\b\b\b\b\b\b\b\b\r\u001b[1m3/3\u001b[0m \u001b[32m━━━━━━━━━━━━━━━━━━━━\u001b[0m\u001b[37m\u001b[0m \u001b[1m1s\u001b[0m 163ms/step - loss: 0.7277 - val_loss: 0.7536\n",
            "Epoch 3/200\n",
            "\u001b[1m3/3\u001b[0m \u001b[32m━━━━━━━━━━━━━━━━━━━━\u001b[0m\u001b[37m\u001b[0m \u001b[1m0s\u001b[0m 40ms/step - loss: 0.7082 \n",
            "Epoch 3: val_loss improved from 0.75359 to 0.71910, saving model to best_model.h5\n"
          ]
        },
        {
          "output_type": "stream",
          "name": "stderr",
          "text": [
            "WARNING:absl:You are saving your model as an HDF5 file via `model.save()` or `keras.saving.save_model(model)`. This file format is considered legacy. We recommend using instead the native Keras format, e.g. `model.save('my_model.keras')` or `keras.saving.save_model(model, 'my_model.keras')`. \n"
          ]
        },
        {
          "output_type": "stream",
          "name": "stdout",
          "text": [
            "\b\b\b\b\b\b\b\b\b\b\b\b\b\b\b\b\b\b\b\b\b\b\b\b\b\b\b\b\b\b\b\b\b\b\b\b\b\b\b\b\b\b\b\b\b\b\b\b\b\b\b\b\r\u001b[1m3/3\u001b[0m \u001b[32m━━━━━━━━━━━━━━━━━━━━\u001b[0m\u001b[37m\u001b[0m \u001b[1m1s\u001b[0m 195ms/step - loss: 0.7045 - val_loss: 0.7191\n",
            "Epoch 4/200\n",
            "\u001b[1m3/3\u001b[0m \u001b[32m━━━━━━━━━━━━━━━━━━━━\u001b[0m\u001b[37m\u001b[0m \u001b[1m0s\u001b[0m 45ms/step - loss: 0.6625 \n",
            "Epoch 4: val_loss improved from 0.71910 to 0.69743, saving model to best_model.h5\n"
          ]
        },
        {
          "output_type": "stream",
          "name": "stderr",
          "text": [
            "WARNING:absl:You are saving your model as an HDF5 file via `model.save()` or `keras.saving.save_model(model)`. This file format is considered legacy. We recommend using instead the native Keras format, e.g. `model.save('my_model.keras')` or `keras.saving.save_model(model, 'my_model.keras')`. \n"
          ]
        },
        {
          "output_type": "stream",
          "name": "stdout",
          "text": [
            "\b\b\b\b\b\b\b\b\b\b\b\b\b\b\b\b\b\b\b\b\b\b\b\b\b\b\b\b\b\b\b\b\b\b\b\b\b\b\b\b\b\b\b\b\b\b\b\b\b\b\b\b\r\u001b[1m3/3\u001b[0m \u001b[32m━━━━━━━━━━━━━━━━━━━━\u001b[0m\u001b[37m\u001b[0m \u001b[1m1s\u001b[0m 198ms/step - loss: 0.6633 - val_loss: 0.6974\n",
            "Epoch 5/200\n",
            "\u001b[1m3/3\u001b[0m \u001b[32m━━━━━━━━━━━━━━━━━━━━\u001b[0m\u001b[37m\u001b[0m \u001b[1m0s\u001b[0m 38ms/step - loss: 0.6503\n",
            "Epoch 5: val_loss improved from 0.69743 to 0.68618, saving model to best_model.h5\n"
          ]
        },
        {
          "output_type": "stream",
          "name": "stderr",
          "text": [
            "WARNING:absl:You are saving your model as an HDF5 file via `model.save()` or `keras.saving.save_model(model)`. This file format is considered legacy. We recommend using instead the native Keras format, e.g. `model.save('my_model.keras')` or `keras.saving.save_model(model, 'my_model.keras')`. \n"
          ]
        },
        {
          "output_type": "stream",
          "name": "stdout",
          "text": [
            "\b\b\b\b\b\b\b\b\b\b\b\b\b\b\b\b\b\b\b\b\b\b\b\b\b\b\b\b\b\b\b\b\b\b\b\b\b\b\b\b\b\b\b\b\b\b\b\b\b\b\b\b\r\u001b[1m3/3\u001b[0m \u001b[32m━━━━━━━━━━━━━━━━━━━━\u001b[0m\u001b[37m\u001b[0m \u001b[1m0s\u001b[0m 186ms/step - loss: 0.6519 - val_loss: 0.6862\n",
            "Epoch 6/200\n",
            "\u001b[1m3/3\u001b[0m \u001b[32m━━━━━━━━━━━━━━━━━━━━\u001b[0m\u001b[37m\u001b[0m \u001b[1m0s\u001b[0m 26ms/step - loss: 0.6431 \n",
            "Epoch 6: val_loss improved from 0.68618 to 0.67942, saving model to best_model.h5\n"
          ]
        },
        {
          "output_type": "stream",
          "name": "stderr",
          "text": [
            "WARNING:absl:You are saving your model as an HDF5 file via `model.save()` or `keras.saving.save_model(model)`. This file format is considered legacy. We recommend using instead the native Keras format, e.g. `model.save('my_model.keras')` or `keras.saving.save_model(model, 'my_model.keras')`. \n"
          ]
        },
        {
          "output_type": "stream",
          "name": "stdout",
          "text": [
            "\b\b\b\b\b\b\b\b\b\b\b\b\b\b\b\b\b\b\b\b\b\b\b\b\b\b\b\b\b\b\b\b\b\b\b\b\b\b\b\b\b\b\b\b\b\b\b\b\b\b\b\b\r\u001b[1m3/3\u001b[0m \u001b[32m━━━━━━━━━━━━━━━━━━━━\u001b[0m\u001b[37m\u001b[0m \u001b[1m0s\u001b[0m 119ms/step - loss: 0.6444 - val_loss: 0.6794\n",
            "Epoch 7/200\n",
            "\u001b[1m3/3\u001b[0m \u001b[32m━━━━━━━━━━━━━━━━━━━━\u001b[0m\u001b[37m\u001b[0m \u001b[1m0s\u001b[0m 31ms/step - loss: 0.6427\n",
            "Epoch 7: val_loss improved from 0.67942 to 0.67934, saving model to best_model.h5\n"
          ]
        },
        {
          "output_type": "stream",
          "name": "stderr",
          "text": [
            "WARNING:absl:You are saving your model as an HDF5 file via `model.save()` or `keras.saving.save_model(model)`. This file format is considered legacy. We recommend using instead the native Keras format, e.g. `model.save('my_model.keras')` or `keras.saving.save_model(model, 'my_model.keras')`. \n"
          ]
        },
        {
          "output_type": "stream",
          "name": "stdout",
          "text": [
            "\b\b\b\b\b\b\b\b\b\b\b\b\b\b\b\b\b\b\b\b\b\b\b\b\b\b\b\b\b\b\b\b\b\b\b\b\b\b\b\b\b\b\b\b\b\b\b\b\b\b\b\b\r\u001b[1m3/3\u001b[0m \u001b[32m━━━━━━━━━━━━━━━━━━━━\u001b[0m\u001b[37m\u001b[0m \u001b[1m0s\u001b[0m 157ms/step - loss: 0.6433 - val_loss: 0.6793\n",
            "Epoch 8/200\n",
            "\u001b[1m3/3\u001b[0m \u001b[32m━━━━━━━━━━━━━━━━━━━━\u001b[0m\u001b[37m\u001b[0m \u001b[1m0s\u001b[0m 29ms/step - loss: 0.6443 \n",
            "Epoch 8: val_loss did not improve from 0.67934\n",
            "\u001b[1m3/3\u001b[0m \u001b[32m━━━━━━━━━━━━━━━━━━━━\u001b[0m\u001b[37m\u001b[0m \u001b[1m0s\u001b[0m 63ms/step - loss: 0.6449 - val_loss: 0.6823\n",
            "Epoch 9/200\n",
            "\u001b[1m3/3\u001b[0m \u001b[32m━━━━━━━━━━━━━━━━━━━━\u001b[0m\u001b[37m\u001b[0m \u001b[1m0s\u001b[0m 26ms/step - loss: 0.6608\n",
            "Epoch 9: val_loss did not improve from 0.67934\n",
            "\u001b[1m3/3\u001b[0m \u001b[32m━━━━━━━━━━━━━━━━━━━━\u001b[0m\u001b[37m\u001b[0m \u001b[1m0s\u001b[0m 64ms/step - loss: 0.6579 - val_loss: 0.6816\n",
            "Epoch 10/200\n",
            "\u001b[1m3/3\u001b[0m \u001b[32m━━━━━━━━━━━━━━━━━━━━\u001b[0m\u001b[37m\u001b[0m \u001b[1m0s\u001b[0m 26ms/step - loss: 0.6286\n",
            "Epoch 10: val_loss improved from 0.67934 to 0.67792, saving model to best_model.h5\n"
          ]
        },
        {
          "output_type": "stream",
          "name": "stderr",
          "text": [
            "WARNING:absl:You are saving your model as an HDF5 file via `model.save()` or `keras.saving.save_model(model)`. This file format is considered legacy. We recommend using instead the native Keras format, e.g. `model.save('my_model.keras')` or `keras.saving.save_model(model, 'my_model.keras')`. \n"
          ]
        },
        {
          "output_type": "stream",
          "name": "stdout",
          "text": [
            "\b\b\b\b\b\b\b\b\b\b\b\b\b\b\b\b\b\b\b\b\b\b\b\b\b\b\b\b\b\b\b\b\b\b\b\b\b\b\b\b\b\b\b\b\b\b\b\b\b\b\b\b\r\u001b[1m3/3\u001b[0m \u001b[32m━━━━━━━━━━━━━━━━━━━━\u001b[0m\u001b[37m\u001b[0m \u001b[1m0s\u001b[0m 112ms/step - loss: 0.6328 - val_loss: 0.6779\n",
            "Epoch 11/200\n",
            "\u001b[1m3/3\u001b[0m \u001b[32m━━━━━━━━━━━━━━━━━━━━\u001b[0m\u001b[37m\u001b[0m \u001b[1m0s\u001b[0m 25ms/step - loss: 0.6229\n",
            "Epoch 11: val_loss improved from 0.67792 to 0.67629, saving model to best_model.h5\n"
          ]
        },
        {
          "output_type": "stream",
          "name": "stderr",
          "text": [
            "WARNING:absl:You are saving your model as an HDF5 file via `model.save()` or `keras.saving.save_model(model)`. This file format is considered legacy. We recommend using instead the native Keras format, e.g. `model.save('my_model.keras')` or `keras.saving.save_model(model, 'my_model.keras')`. \n"
          ]
        },
        {
          "output_type": "stream",
          "name": "stdout",
          "text": [
            "\b\b\b\b\b\b\b\b\b\b\b\b\b\b\b\b\b\b\b\b\b\b\b\b\b\b\b\b\b\b\b\b\b\b\b\b\b\b\b\b\b\b\b\b\b\b\b\b\b\b\b\b\r\u001b[1m3/3\u001b[0m \u001b[32m━━━━━━━━━━━━━━━━━━━━\u001b[0m\u001b[37m\u001b[0m \u001b[1m0s\u001b[0m 158ms/step - loss: 0.6278 - val_loss: 0.6763\n",
            "Epoch 12/200\n",
            "\u001b[1m1/3\u001b[0m \u001b[32m━━━━━━\u001b[0m\u001b[37m━━━━━━━━━━━━━━\u001b[0m \u001b[1m0s\u001b[0m 52ms/step - loss: 0.5993\n",
            "Epoch 12: val_loss did not improve from 0.67629\n",
            "\u001b[1m3/3\u001b[0m \u001b[32m━━━━━━━━━━━━━━━━━━━━\u001b[0m\u001b[37m\u001b[0m \u001b[1m0s\u001b[0m 57ms/step - loss: 0.6315 - val_loss: 0.6774\n",
            "Epoch 13/200\n",
            "\u001b[1m3/3\u001b[0m \u001b[32m━━━━━━━━━━━━━━━━━━━━\u001b[0m\u001b[37m\u001b[0m \u001b[1m0s\u001b[0m 27ms/step - loss: 0.6447\n",
            "Epoch 13: val_loss did not improve from 0.67629\n",
            "\u001b[1m3/3\u001b[0m \u001b[32m━━━━━━━━━━━━━━━━━━━━\u001b[0m\u001b[37m\u001b[0m \u001b[1m0s\u001b[0m 62ms/step - loss: 0.6436 - val_loss: 0.6789\n",
            "Epoch 14/200\n",
            "\u001b[1m3/3\u001b[0m \u001b[32m━━━━━━━━━━━━━━━━━━━━\u001b[0m\u001b[37m\u001b[0m \u001b[1m0s\u001b[0m 27ms/step - loss: 0.6316 \n",
            "Epoch 14: val_loss improved from 0.67629 to 0.67287, saving model to best_model.h5\n"
          ]
        },
        {
          "output_type": "stream",
          "name": "stderr",
          "text": [
            "WARNING:absl:You are saving your model as an HDF5 file via `model.save()` or `keras.saving.save_model(model)`. This file format is considered legacy. We recommend using instead the native Keras format, e.g. `model.save('my_model.keras')` or `keras.saving.save_model(model, 'my_model.keras')`. \n"
          ]
        },
        {
          "output_type": "stream",
          "name": "stdout",
          "text": [
            "\b\b\b\b\b\b\b\b\b\b\b\b\b\b\b\b\b\b\b\b\b\b\b\b\b\b\b\b\b\b\b\b\b\b\b\b\b\b\b\b\b\b\b\b\b\b\b\b\b\b\b\b\r\u001b[1m3/3\u001b[0m \u001b[32m━━━━━━━━━━━━━━━━━━━━\u001b[0m\u001b[37m\u001b[0m \u001b[1m0s\u001b[0m 117ms/step - loss: 0.6343 - val_loss: 0.6729\n",
            "Epoch 15/200\n",
            "\u001b[1m3/3\u001b[0m \u001b[32m━━━━━━━━━━━━━━━━━━━━\u001b[0m\u001b[37m\u001b[0m \u001b[1m0s\u001b[0m 29ms/step - loss: 0.6409 \n",
            "Epoch 15: val_loss improved from 0.67287 to 0.66758, saving model to best_model.h5\n"
          ]
        },
        {
          "output_type": "stream",
          "name": "stderr",
          "text": [
            "WARNING:absl:You are saving your model as an HDF5 file via `model.save()` or `keras.saving.save_model(model)`. This file format is considered legacy. We recommend using instead the native Keras format, e.g. `model.save('my_model.keras')` or `keras.saving.save_model(model, 'my_model.keras')`. \n"
          ]
        },
        {
          "output_type": "stream",
          "name": "stdout",
          "text": [
            "\b\b\b\b\b\b\b\b\b\b\b\b\b\b\b\b\b\b\b\b\b\b\b\b\b\b\b\b\b\b\b\b\b\b\b\b\b\b\b\b\b\b\b\b\b\b\b\b\b\b\b\b\r\u001b[1m3/3\u001b[0m \u001b[32m━━━━━━━━━━━━━━━━━━━━\u001b[0m\u001b[37m\u001b[0m \u001b[1m0s\u001b[0m 126ms/step - loss: 0.6397 - val_loss: 0.6676\n",
            "Epoch 16/200\n",
            "\u001b[1m3/3\u001b[0m \u001b[32m━━━━━━━━━━━━━━━━━━━━\u001b[0m\u001b[37m\u001b[0m \u001b[1m0s\u001b[0m 36ms/step - loss: 0.6369\n",
            "Epoch 16: val_loss did not improve from 0.66758\n",
            "\u001b[1m3/3\u001b[0m \u001b[32m━━━━━━━━━━━━━━━━━━━━\u001b[0m\u001b[37m\u001b[0m \u001b[1m0s\u001b[0m 90ms/step - loss: 0.6374 - val_loss: 0.6677\n",
            "Epoch 17/200\n",
            "\u001b[1m3/3\u001b[0m \u001b[32m━━━━━━━━━━━━━━━━━━━━\u001b[0m\u001b[37m\u001b[0m \u001b[1m0s\u001b[0m 30ms/step - loss: 0.6296\n",
            "Epoch 17: val_loss did not improve from 0.66758\n",
            "\u001b[1m3/3\u001b[0m \u001b[32m━━━━━━━━━━━━━━━━━━━━\u001b[0m\u001b[37m\u001b[0m \u001b[1m0s\u001b[0m 63ms/step - loss: 0.6321 - val_loss: 0.6711\n",
            "Epoch 18/200\n",
            "\u001b[1m3/3\u001b[0m \u001b[32m━━━━━━━━━━━━━━━━━━━━\u001b[0m\u001b[37m\u001b[0m \u001b[1m0s\u001b[0m 25ms/step - loss: 0.6429 \n",
            "Epoch 18: val_loss did not improve from 0.66758\n",
            "\u001b[1m3/3\u001b[0m \u001b[32m━━━━━━━━━━━━━━━━━━━━\u001b[0m\u001b[37m\u001b[0m \u001b[1m0s\u001b[0m 61ms/step - loss: 0.6425 - val_loss: 0.6759\n",
            "Epoch 19/200\n",
            "\u001b[1m3/3\u001b[0m \u001b[32m━━━━━━━━━━━━━━━━━━━━\u001b[0m\u001b[37m\u001b[0m \u001b[1m0s\u001b[0m 27ms/step - loss: 0.6393\n",
            "Epoch 19: val_loss did not improve from 0.66758\n",
            "\u001b[1m3/3\u001b[0m \u001b[32m━━━━━━━━━━━━━━━━━━━━\u001b[0m\u001b[37m\u001b[0m \u001b[1m0s\u001b[0m 62ms/step - loss: 0.6396 - val_loss: 0.6751\n",
            "Epoch 20/200\n",
            "\u001b[1m3/3\u001b[0m \u001b[32m━━━━━━━━━━━━━━━━━━━━\u001b[0m\u001b[37m\u001b[0m \u001b[1m0s\u001b[0m 25ms/step - loss: 0.6288\n",
            "Epoch 20: val_loss did not improve from 0.66758\n",
            "\u001b[1m3/3\u001b[0m \u001b[32m━━━━━━━━━━━━━━━━━━━━\u001b[0m\u001b[37m\u001b[0m \u001b[1m0s\u001b[0m 60ms/step - loss: 0.6307 - val_loss: 0.6698\n",
            "Epoch 21/200\n",
            "\u001b[1m3/3\u001b[0m \u001b[32m━━━━━━━━━━━━━━━━━━━━\u001b[0m\u001b[37m\u001b[0m \u001b[1m0s\u001b[0m 27ms/step - loss: 0.6251\n",
            "Epoch 21: val_loss improved from 0.66758 to 0.66709, saving model to best_model.h5\n"
          ]
        },
        {
          "output_type": "stream",
          "name": "stderr",
          "text": [
            "WARNING:absl:You are saving your model as an HDF5 file via `model.save()` or `keras.saving.save_model(model)`. This file format is considered legacy. We recommend using instead the native Keras format, e.g. `model.save('my_model.keras')` or `keras.saving.save_model(model, 'my_model.keras')`. \n"
          ]
        },
        {
          "output_type": "stream",
          "name": "stdout",
          "text": [
            "\b\b\b\b\b\b\b\b\b\b\b\b\b\b\b\b\b\b\b\b\b\b\b\b\b\b\b\b\b\b\b\b\b\b\b\b\b\b\b\b\b\b\b\b\b\b\b\b\b\b\b\b\r\u001b[1m3/3\u001b[0m \u001b[32m━━━━━━━━━━━━━━━━━━━━\u001b[0m\u001b[37m\u001b[0m \u001b[1m0s\u001b[0m 136ms/step - loss: 0.6265 - val_loss: 0.6671\n",
            "Epoch 22/200\n",
            "\u001b[1m3/3\u001b[0m \u001b[32m━━━━━━━━━━━━━━━━━━━━\u001b[0m\u001b[37m\u001b[0m \u001b[1m0s\u001b[0m 36ms/step - loss: 0.6266\n",
            "Epoch 22: val_loss did not improve from 0.66709\n",
            "\u001b[1m3/3\u001b[0m \u001b[32m━━━━━━━━━━━━━━━━━━━━\u001b[0m\u001b[37m\u001b[0m \u001b[1m0s\u001b[0m 72ms/step - loss: 0.6272 - val_loss: 0.6704\n",
            "Epoch 23/200\n",
            "\u001b[1m3/3\u001b[0m \u001b[32m━━━━━━━━━━━━━━━━━━━━\u001b[0m\u001b[37m\u001b[0m \u001b[1m0s\u001b[0m 25ms/step - loss: 0.6261\n",
            "Epoch 23: val_loss did not improve from 0.66709\n",
            "\u001b[1m3/3\u001b[0m \u001b[32m━━━━━━━━━━━━━━━━━━━━\u001b[0m\u001b[37m\u001b[0m \u001b[1m0s\u001b[0m 81ms/step - loss: 0.6277 - val_loss: 0.6721\n",
            "Epoch 24/200\n",
            "\u001b[1m3/3\u001b[0m \u001b[32m━━━━━━━━━━━━━━━━━━━━\u001b[0m\u001b[37m\u001b[0m \u001b[1m0s\u001b[0m 25ms/step - loss: 0.6424\n",
            "Epoch 24: val_loss did not improve from 0.66709\n",
            "\u001b[1m3/3\u001b[0m \u001b[32m━━━━━━━━━━━━━━━━━━━━\u001b[0m\u001b[37m\u001b[0m \u001b[1m0s\u001b[0m 60ms/step - loss: 0.6400 - val_loss: 0.6672\n",
            "Epoch 25/200\n",
            "\u001b[1m3/3\u001b[0m \u001b[32m━━━━━━━━━━━━━━━━━━━━\u001b[0m\u001b[37m\u001b[0m \u001b[1m0s\u001b[0m 26ms/step - loss: 0.6390 \n",
            "Epoch 25: val_loss did not improve from 0.66709\n",
            "\u001b[1m3/3\u001b[0m \u001b[32m━━━━━━━━━━━━━━━━━━━━\u001b[0m\u001b[37m\u001b[0m \u001b[1m0s\u001b[0m 60ms/step - loss: 0.6362 - val_loss: 0.6672\n",
            "Epoch 26/200\n",
            "\u001b[1m3/3\u001b[0m \u001b[32m━━━━━━━━━━━━━━━━━━━━\u001b[0m\u001b[37m\u001b[0m \u001b[1m0s\u001b[0m 25ms/step - loss: 0.6142\n",
            "Epoch 26: val_loss did not improve from 0.66709\n",
            "\u001b[1m3/3\u001b[0m \u001b[32m━━━━━━━━━━━━━━━━━━━━\u001b[0m\u001b[37m\u001b[0m \u001b[1m0s\u001b[0m 60ms/step - loss: 0.6177 - val_loss: 0.6699\n",
            "Epoch 27/200\n",
            "\u001b[1m3/3\u001b[0m \u001b[32m━━━━━━━━━━━━━━━━━━━━\u001b[0m\u001b[37m\u001b[0m \u001b[1m0s\u001b[0m 25ms/step - loss: 0.6152 \n",
            "Epoch 27: val_loss did not improve from 0.66709\n",
            "\u001b[1m3/3\u001b[0m \u001b[32m━━━━━━━━━━━━━━━━━━━━\u001b[0m\u001b[37m\u001b[0m \u001b[1m0s\u001b[0m 60ms/step - loss: 0.6186 - val_loss: 0.6689\n",
            "Epoch 28/200\n",
            "\u001b[1m3/3\u001b[0m \u001b[32m━━━━━━━━━━━━━━━━━━━━\u001b[0m\u001b[37m\u001b[0m \u001b[1m0s\u001b[0m 26ms/step - loss: 0.6422 \n",
            "Epoch 28: val_loss did not improve from 0.66709\n",
            "\u001b[1m3/3\u001b[0m \u001b[32m━━━━━━━━━━━━━━━━━━━━\u001b[0m\u001b[37m\u001b[0m \u001b[1m0s\u001b[0m 79ms/step - loss: 0.6377 - val_loss: 0.6706\n",
            "Epoch 29/200\n",
            "\u001b[1m1/3\u001b[0m \u001b[32m━━━━━━\u001b[0m\u001b[37m━━━━━━━━━━━━━━\u001b[0m \u001b[1m0s\u001b[0m 50ms/step - loss: 0.5484\n",
            "Epoch 29: val_loss did not improve from 0.66709\n",
            "\u001b[1m3/3\u001b[0m \u001b[32m━━━━━━━━━━━━━━━━━━━━\u001b[0m\u001b[37m\u001b[0m \u001b[1m0s\u001b[0m 59ms/step - loss: 0.5981 - val_loss: 0.6768\n",
            "Epoch 30/200\n",
            "\u001b[1m3/3\u001b[0m \u001b[32m━━━━━━━━━━━━━━━━━━━━\u001b[0m\u001b[37m\u001b[0m \u001b[1m0s\u001b[0m 29ms/step - loss: 0.6205\n",
            "Epoch 30: val_loss did not improve from 0.66709\n",
            "\u001b[1m3/3\u001b[0m \u001b[32m━━━━━━━━━━━━━━━━━━━━\u001b[0m\u001b[37m\u001b[0m \u001b[1m0s\u001b[0m 66ms/step - loss: 0.6196 - val_loss: 0.6818\n",
            "Epoch 31/200\n",
            "\u001b[1m3/3\u001b[0m \u001b[32m━━━━━━━━━━━━━━━━━━━━\u001b[0m\u001b[37m\u001b[0m \u001b[1m0s\u001b[0m 27ms/step - loss: 0.6066\n",
            "Epoch 31: val_loss did not improve from 0.66709\n",
            "\u001b[1m3/3\u001b[0m \u001b[32m━━━━━━━━━━━━━━━━━━━━\u001b[0m\u001b[37m\u001b[0m \u001b[1m0s\u001b[0m 60ms/step - loss: 0.6089 - val_loss: 0.6820\n",
            "Epoch 31: early stopping\n"
          ]
        }
      ]
    },
    {
      "cell_type": "code",
      "source": [
        "training.history.keys() # this stores the value of the loss at each epoch so you can plot it"
      ],
      "metadata": {
        "id": "KRzfXM4zva95",
        "colab": {
          "base_uri": "https://localhost:8080/"
        },
        "outputId": "ae7fe891-a44c-44ef-eeda-7481dbcb89cc"
      },
      "execution_count": null,
      "outputs": [
        {
          "output_type": "execute_result",
          "data": {
            "text/plain": [
              "dict_keys(['loss', 'val_loss'])"
            ]
          },
          "metadata": {},
          "execution_count": 79
        }
      ]
    },
    {
      "cell_type": "code",
      "source": [
        "plot the loss function!!"
      ],
      "metadata": {
        "id": "q3ULaXRJStiB"
      },
      "execution_count": null,
      "outputs": []
    },
    {
      "cell_type": "code",
      "source": [
        "plt.plot(training.history['loss'])\n",
        "plt.plot(training.history['val_loss']);\n",
        "# add axis labels and legend!!"
      ],
      "metadata": {
        "id": "ZUA5qbh7uW6i"
      },
      "execution_count": null,
      "outputs": []
    },
    {
      "cell_type": "markdown",
      "source": [
        "CAPTION!!"
      ],
      "metadata": {
        "id": "QbIa5uF_LCrC"
      }
    },
    {
      "cell_type": "markdown",
      "source": [
        "plot (visualize) the prediction and the ground truth for the test data. What do you see? where is the model succesful where is it not?"
      ],
      "metadata": {
        "id": "BAtOo5MRLIVy"
      }
    },
    {
      "cell_type": "code",
      "source": [
        "for i,_ in enumerate(X_test):\n",
        "  ......"
      ],
      "metadata": {
        "id": "k3NcZrNSu6wH"
      },
      "execution_count": null,
      "outputs": []
    },
    {
      "cell_type": "markdown",
      "source": [
        "CAPTION!!"
      ],
      "metadata": {
        "id": "_lvDsomtS1vj"
      }
    }
  ]
}